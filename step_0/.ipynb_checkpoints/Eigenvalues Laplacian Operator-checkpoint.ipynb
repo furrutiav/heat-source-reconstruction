{
 "cells": [
  {
   "cell_type": "code",
   "execution_count": 1,
   "id": "603f6ece",
   "metadata": {},
   "outputs": [],
   "source": [
    "from dolfin import *"
   ]
  },
  {
   "cell_type": "markdown",
   "id": "4aba3425",
   "metadata": {},
   "source": [
    "\\begin{align}\n",
    "-\\Delta u = \\lambda u, \\quad \\Omega\\\\\n",
    "u = 0, \\quad \\partial \\Omega\n",
    "\\end{align}"
   ]
  },
  {
   "cell_type": "code",
   "execution_count": 3,
   "id": "0e70a76a",
   "metadata": {},
   "outputs": [],
   "source": [
    "mesh = UnitSquareMesh(32, 32)\n",
    "V = FunctionSpace(mesh, \"Lagrange\", 1)\n",
    "def boundary(x):\n",
    "    return x[0] < DOLFIN_EPS or x[0] > 1.0 - DOLFIN_EPS or x[1] < DOLFIN_EPS or x[1] > 1.0 - DOLFIN_EPS\n",
    "\n",
    "v0 = Constant(0.0)\n",
    "bc = DirichletBC(V, u0, boundary)"
   ]
  },
  {
   "cell_type": "code",
   "execution_count": 4,
   "id": "2dbffda5",
   "metadata": {},
   "outputs": [],
   "source": [
    "u = TrialFunction(V)\n",
    "v = TestFunction(V)"
   ]
  },
  {
   "cell_type": "code",
   "execution_count": 7,
   "id": "1752a77c",
   "metadata": {},
   "outputs": [],
   "source": [
    "dummy = inner(Constant(1), v)*dx\n",
    "a = inner(grad(u), grad(v))*dx\n",
    "asm = SystemAssembler(a, dummy, bc)\n",
    "A = PETScMatrix(); asm.assemble(A)"
   ]
  },
  {
   "cell_type": "code",
   "execution_count": 8,
   "id": "c6222d94",
   "metadata": {},
   "outputs": [
    {
     "name": "stdout",
     "output_type": "stream",
     "text": [
      "Calling FFC just-in-time (JIT) compiler, this may take some time.\n"
     ]
    }
   ],
   "source": [
    "b = inner(u, v)*dx\n",
    "asm = SystemAssembler(b, dummy)\n",
    "B = PETScMatrix(); asm.assemble(B)\n",
    "bc.zero(B)"
   ]
  },
  {
   "cell_type": "code",
   "execution_count": 16,
   "id": "41a7a7eb",
   "metadata": {},
   "outputs": [],
   "source": [
    "num_eigenfunctions = 15"
   ]
  },
  {
   "cell_type": "code",
   "execution_count": 17,
   "id": "3f0c4770",
   "metadata": {},
   "outputs": [
    {
     "name": "stdout",
     "output_type": "stream",
     "text": [
      "CPU times: user 15.6 ms, sys: 0 ns, total: 15.6 ms\n",
      "Wall time: 16 ms\n"
     ]
    }
   ],
   "source": [
    "%%time\n",
    "solver = SLEPcEigenSolver(A, B)\n",
    "solver.parameters[\"solver\"] = \"krylov-schur\"\n",
    "solver.parameters[\"spectrum\"] = \"target magnitude\"\n",
    "solver.parameters[\"problem_type\"] = \"gen_hermitian\"\n",
    "solver.parameters[\"spectral_transform\"] = \"shift-and-invert\"\n",
    "solver.parameters[\"spectral_shift\"] = 10.\n",
    "solver.solve(num_eigenfunctions)"
   ]
  },
  {
   "cell_type": "code",
   "execution_count": 26,
   "id": "181a3578",
   "metadata": {},
   "outputs": [
    {
     "data": {
      "text/plain": [
       "(19.786792290191517,\n",
       " 0.0,\n",
       " <dolfin.cpp.la.PETScVector at 0x7fbdd5c06e80>,\n",
       " <dolfin.cpp.la.PETScVector at 0x7fbdd5c051c0>)"
      ]
     },
     "execution_count": 26,
     "metadata": {},
     "output_type": "execute_result"
    }
   ],
   "source": [
    "solver.get_eigenpair(0)"
   ]
  },
  {
   "cell_type": "code",
   "execution_count": 15,
   "id": "67b2ba06",
   "metadata": {},
   "outputs": [
    {
     "name": "stdout",
     "output_type": "stream",
     "text": [
      "15\n"
     ]
    }
   ],
   "source": [
    "eigenmodes = File(\"eigenmodes.pvd\")\n",
    "eigenfunction = Function(V, name=\"Eigenfunction\")\n",
    "print(solver.get_number_converged())\n",
    "for i in range(solver.get_number_converged()):\n",
    "    (r, _, rv, _) = solver.get_eigenpair(i)\n",
    "    eigenfunction.vector().zero()\n",
    "    eigenfunction.vector().axpy(1, rv)\n",
    "    eigenmodes << eigenfunction"
   ]
  }
 ],
 "metadata": {
  "kernelspec": {
   "display_name": "Python 3 (ipykernel)",
   "language": "python",
   "name": "python3"
  },
  "language_info": {
   "codemirror_mode": {
    "name": "ipython",
    "version": 3
   },
   "file_extension": ".py",
   "mimetype": "text/x-python",
   "name": "python",
   "nbconvert_exporter": "python",
   "pygments_lexer": "ipython3",
   "version": "3.10.6"
  }
 },
 "nbformat": 4,
 "nbformat_minor": 5
}
