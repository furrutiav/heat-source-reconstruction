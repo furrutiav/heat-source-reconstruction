{
 "cells": [
  {
   "cell_type": "markdown",
   "id": "f5dd0de1",
   "metadata": {},
   "source": [
    "Problema a tiempo directo\n",
    "\\begin{align}\n",
    "-\\partial_t \\varphi - \\gamma \\Delta \\varphi = v \\chi_O, \\quad \\Omega,\\\\\n",
    "\\varphi = 0, \\quad \\partial \\Omega \\times (0, \\tau),\\\\\n",
    "\\varphi(x, \\tau) = \\varphi_0, \\quad \\Omega,\\\\\n",
    "\\varphi(x, 0) = 0, \\quad \\Omega\n",
    "\\end{align}"
   ]
  },
  {
   "cell_type": "markdown",
   "id": "138f5381",
   "metadata": {},
   "source": [
    "Problema a tiempo inverso: $\\Phi(x, t) = \\varphi(x, \\tau - t)$\n",
    "\\begin{align}\n",
    "\\partial_t \\Phi - \\gamma \\Delta \\Phi = v \\chi_O, \\quad \\Omega,\\\\\n",
    "\\Phi = 0, \\quad \\partial \\Omega \\times (0, \\tau),\\\\\n",
    "\\Phi(x, 0) = \\varphi_0, \\quad \\Omega,\\\\\n",
    "|| \\Phi(x, \\tau) || < \\epsilon, \\quad \\Omega\n",
    "\\end{align}"
   ]
  },
  {
   "cell_type": "code",
   "execution_count": 5,
   "id": "cbe09df4",
   "metadata": {},
   "outputs": [],
   "source": [
    "tau = 1"
   ]
  },
  {
   "cell_type": "code",
   "execution_count": 6,
   "id": "e7d179bd",
   "metadata": {},
   "outputs": [],
   "source": [
    "from dolfin import *\n",
    "from dolfin_adjoint import *\n",
    "import numpy as np"
   ]
  },
  {
   "cell_type": "code",
   "execution_count": null,
   "id": "81c3580c",
   "metadata": {},
   "outputs": [],
   "source": []
  }
 ],
 "metadata": {
  "kernelspec": {
   "display_name": "Python 3 (ipykernel)",
   "language": "python",
   "name": "python3"
  },
  "language_info": {
   "codemirror_mode": {
    "name": "ipython",
    "version": 3
   },
   "file_extension": ".py",
   "mimetype": "text/x-python",
   "name": "python",
   "nbconvert_exporter": "python",
   "pygments_lexer": "ipython3",
   "version": "3.10.6"
  }
 },
 "nbformat": 4,
 "nbformat_minor": 5
}
