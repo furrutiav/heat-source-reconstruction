{
 "cells": [
  {
   "cell_type": "markdown",
   "id": "058a9442",
   "metadata": {},
   "source": [
    "Problema a tiempo directo\n",
    "\\begin{align}\n",
    "-\\partial_t \\varphi - \\gamma \\Delta \\varphi = v \\chi_O, \\quad \\Omega,\\\\\n",
    "\\varphi = 0, \\quad \\partial \\Omega \\times (0, \\tau),\\\\\n",
    "\\varphi(x, \\tau) = \\varphi_0, \\quad \\Omega,\\\\\n",
    "\\varphi(x, 0) = 0, \\quad \\Omega\n",
    "\\end{align}"
   ]
  },
  {
   "cell_type": "markdown",
   "id": "54e4847a",
   "metadata": {},
   "source": [
    "Problema a tiempo inverso: $\\Phi(x, t) = \\varphi(x, \\tau - t)$\n",
    "\\begin{align}\n",
    "\\partial_t \\Phi - \\gamma \\Delta \\Phi = v \\chi_O, \\quad \\Omega,\\\\\n",
    "\\Phi = 0, \\quad \\partial \\Omega \\times (0, \\tau),\\\\\n",
    "\\Phi(x, 0) = \\varphi_0, \\quad \\Omega,\\\\\n",
    "|| \\Phi(x, \\tau) || < \\epsilon, \\quad \\Omega\n",
    "\\end{align}"
   ]
  },
  {
   "cell_type": "code",
   "execution_count": 1,
   "id": "3075bb49",
   "metadata": {},
   "outputs": [],
   "source": [
    "tau = 0.1"
   ]
  },
  {
   "cell_type": "code",
   "execution_count": 2,
   "id": "b195d7c3",
   "metadata": {},
   "outputs": [],
   "source": [
    "from dolfin import *\n",
    "from dolfin_adjoint import *\n",
    "import numpy as np\n",
    "set_log_level(LogLevel.WARNING)"
   ]
  },
  {
   "cell_type": "code",
   "execution_count": 3,
   "id": "e2d388aa",
   "metadata": {},
   "outputs": [],
   "source": [
    "mesh = UnitSquareMesh(32, 32)\n",
    "V = FunctionSpace(mesh, \"Lagrange\", 1)\n",
    "tol = 1e-14\n",
    "# Defining bounday conditions\n",
    "\n",
    "def boundary(x):\n",
    "    return x[0] < DOLFIN_EPS or x[0] > 1.0 - DOLFIN_EPS or x[1] < DOLFIN_EPS or x[1] > 1.0 - DOLFIN_EPS\n",
    "uD = Constant(0.0)\n",
    "bc = DirichletBC(V, uD, boundary)"
   ]
  },
  {
   "cell_type": "code",
   "execution_count": 4,
   "id": "dd1ff8e5",
   "metadata": {},
   "outputs": [],
   "source": [
    "ind_O = interpolate(Expression('1/3 <= x[1] <= 2/3 ? 0.0 : 1.0', degree=4), V)"
   ]
  },
  {
   "cell_type": "code",
   "execution_count": 5,
   "id": "eb736b21",
   "metadata": {},
   "outputs": [],
   "source": [
    "phi0 = Function(V, '../step_0/Eigenfunction_1.xml')"
   ]
  },
  {
   "cell_type": "code",
   "execution_count": 6,
   "id": "43c8061c",
   "metadata": {},
   "outputs": [],
   "source": [
    "# Resolving the variational formulation    \n",
    "dt = 0.0025\n",
    "\n",
    "# u0 = interpolate(u0_opt, V)\n",
    "u0 = interpolate(Expression(\"0.0\", degree=4), V)\n",
    "u = u0.copy(deepcopy=True)\n",
    "\n",
    "phi_prev = phi0.copy(deepcopy=True) \n",
    "phi_next = phi0.copy(deepcopy=True) \n",
    "\n",
    "T = tau\n",
    "t = 0.0\n",
    "v = TestFunction(V)\n",
    "\n",
    "states = [phi0.copy(deepcopy=True)]\n",
    "controls = [u0.copy(deepcopy=True) ]\n",
    "times = [float(t)]\n",
    "timestep = 0"
   ]
  },
  {
   "cell_type": "code",
   "execution_count": 7,
   "id": "de7744bb",
   "metadata": {},
   "outputs": [
    {
     "name": "stdout",
     "output_type": "stream",
     "text": [
      "Solving for t == 0.0025\n",
      "Done!\n",
      "Solving for t == 0.005\n",
      "Done!\n",
      "Solving for t == 0.0075\n",
      "Done!\n",
      "Solving for t == 0.01\n",
      "Done!\n",
      "Solving for t == 0.0125\n",
      "Done!\n",
      "Solving for t == 0.015000000000000001\n",
      "Done!\n",
      "Solving for t == 0.0175\n",
      "Done!\n",
      "Solving for t == 0.02\n",
      "Done!\n",
      "Solving for t == 0.0225\n",
      "Done!\n",
      "Solving for t == 0.024999999999999998\n",
      "Done!\n",
      "Solving for t == 0.027499999999999997\n",
      "Done!\n",
      "Solving for t == 0.029999999999999995\n",
      "Done!\n",
      "Solving for t == 0.032499999999999994\n",
      "Done!\n",
      "Solving for t == 0.034999999999999996\n",
      "Done!\n",
      "Solving for t == 0.0375\n",
      "Done!\n",
      "Solving for t == 0.04\n",
      "Done!\n",
      "Solving for t == 0.0425\n",
      "Done!\n",
      "Solving for t == 0.045000000000000005\n",
      "Done!\n",
      "Solving for t == 0.04750000000000001\n",
      "Done!\n",
      "Solving for t == 0.05000000000000001\n",
      "Done!\n",
      "Solving for t == 0.05250000000000001\n",
      "Done!\n",
      "Solving for t == 0.055000000000000014\n",
      "Done!\n",
      "Solving for t == 0.057500000000000016\n",
      "Done!\n",
      "Solving for t == 0.06000000000000002\n",
      "Done!\n",
      "Solving for t == 0.06250000000000001\n",
      "Done!\n",
      "Solving for t == 0.06500000000000002\n",
      "Done!\n",
      "Solving for t == 0.06750000000000002\n",
      "Done!\n",
      "Solving for t == 0.07000000000000002\n",
      "Done!\n",
      "Solving for t == 0.07250000000000002\n",
      "Done!\n",
      "Solving for t == 0.07500000000000002\n",
      "Done!\n",
      "Solving for t == 0.07750000000000003\n",
      "Done!\n",
      "Solving for t == 0.08000000000000003\n",
      "Done!\n",
      "Solving for t == 0.08250000000000003\n",
      "Done!\n",
      "Solving for t == 0.08500000000000003\n",
      "Done!\n",
      "Solving for t == 0.08750000000000004\n",
      "Done!\n",
      "Solving for t == 0.09000000000000004\n",
      "Done!\n",
      "Solving for t == 0.09250000000000004\n",
      "Done!\n",
      "Solving for t == 0.09500000000000004\n",
      "Done!\n",
      "Solving for t == 0.09750000000000004\n",
      "Done!\n",
      "Solving for t == 0.10000000000000005\n",
      "Done!\n"
     ]
    }
   ],
   "source": [
    "while abs(T-t)>=tol :\n",
    "    print(\"Solving for t == %s\" % (t + dt))\n",
    "#     u.assign(u0, annotate=True)\n",
    "    \n",
    "    F = inner((phi_next - phi_prev) / Constant(dt), v) * dx + inner(grad(phi_next), grad(v)) * dx - (u * ind_O) * v * dx\n",
    "    solve(F == 0, phi_next, bc, annotate=True) # This is how dolfin-adjoint records the dependency of the control in each timestep\n",
    "    \n",
    "    phi_prev.assign(phi_next, annotate=True)\n",
    "    \n",
    "    t += dt\n",
    "    timestep += 1\n",
    "    \n",
    "    states.append(phi_next.copy(deepcopy=True, annotate=True))\n",
    "#     controls.append(u.copy(deepcopy=True, annotate=True))\n",
    "    \n",
    "    times.append(float(t))\n",
    "    print(\"Done!\")"
   ]
  },
  {
   "cell_type": "code",
   "execution_count": 8,
   "id": "2b86bd3c",
   "metadata": {},
   "outputs": [],
   "source": [
    "import matplotlib.pyplot as plt"
   ]
  },
  {
   "cell_type": "code",
   "execution_count": 9,
   "id": "85b2a932",
   "metadata": {},
   "outputs": [],
   "source": [
    "# # t = 0\n",
    "# img = []\n",
    "# for i in range(100):\n",
    "#     row = []\n",
    "#     for j in range(100):\n",
    "#         row.append(states[t]([i/99,j/99]))\n",
    "#     img.append(row)\n",
    "# plt.imshow(img, vmin=0, vmax=2)\n",
    "# plt.title(t)\n",
    "# t+=5"
   ]
  },
  {
   "cell_type": "code",
   "execution_count": 10,
   "id": "5a011e59",
   "metadata": {},
   "outputs": [
    {
     "data": {
      "text/plain": [
       "41"
      ]
     },
     "execution_count": 10,
     "metadata": {},
     "output_type": "execute_result"
    }
   ],
   "source": [
    "len(states)"
   ]
  },
  {
   "cell_type": "code",
   "execution_count": 11,
   "id": "2303f24a",
   "metadata": {},
   "outputs": [],
   "source": [
    "# heat = File(\"heat.pvd\")\n",
    "# state = Function(V, name=\"state\")\n",
    "# for i in range(len(states)):\n",
    "#     si = states[i]\n",
    "#     state.vector().zero()\n",
    "#     state.vector().axpy(1, si)\n",
    "#     heat << state"
   ]
  },
  {
   "cell_type": "code",
   "execution_count": 12,
   "id": "9cb86c6a",
   "metadata": {},
   "outputs": [
    {
     "name": "stdout",
     "output_type": "stream",
     "text": [
      "RUNNING THE L-BFGS-B CODE\n",
      "\n",
      "           * * *\n",
      "\n",
      "Machine precision = 2.220D-16\n",
      " N =         1089     M =           10\n",
      " This problem is unconstrained.\n",
      "\n",
      "At X0         0 variables are exactly at the bounds\n",
      "\n",
      "At iterate    0    f=  8.75717D-05    |proj g|=  7.90750D-07\n",
      "\n",
      "At iterate    1    f=  3.89962D-05    |proj g|=  5.27702D-07\n",
      "\n",
      "At iterate    2    f=  4.31200D-11    |proj g|=  2.27329D-10\n",
      "CPU times: user 5.34 s, sys: 438 ms, total: 5.78 s\n",
      "At iterate    3    f=  3.27991D-11    |proj g|=  1.94999D-10\n",
      "\n",
      "Wall time: 10.9 s\n",
      "\n",
      "           * * *\n",
      "\n",
      "Tit   = total number of iterations\n",
      "Tnf   = total number of function evaluations\n",
      "Tnint = total number of segments explored during Cauchy searches\n",
      "Skip  = number of BFGS updates skipped\n",
      "Nact  = number of active bounds at final generalized Cauchy point\n",
      "Projg = norm of the final projected gradient\n",
      "F     = final function value\n",
      "\n",
      "           * * *\n",
      "\n",
      "   N    Tit     Tnf  Tnint  Skip  Nact     Projg        F\n",
      " 1089      3      5      1     0     0   1.950D-10   3.280D-11\n",
      "  F =   3.2799106249392254E-011\n",
      "\n",
      "CONVERGENCE: REL_REDUCTION_OF_F_<=_FACTR*EPSMCH             \n"
     ]
    }
   ],
   "source": [
    "%%time\n",
    "steps=len(times)\n",
    "\n",
    "combined = zip(times,controls)\n",
    "alpha = Constant(0.5)\n",
    "# and the minimizing problem\n",
    "J = assemble(phi_next*phi_next*dx)\n",
    "m = Control(u)#[Control(c) for c in controls]\n",
    "RJ = ReducedFunctional(J,m)\n",
    "\n",
    "u0_opt = minimize(RJ,tol=1.0e-10, options={\"ftol\": 1e-7})"
   ]
  },
  {
   "cell_type": "code",
   "execution_count": 13,
   "id": "53411f2d",
   "metadata": {},
   "outputs": [
    {
     "data": {
      "text/plain": [
       "3.7002922696907093e-13"
      ]
     },
     "execution_count": 13,
     "metadata": {},
     "output_type": "execute_result"
    }
   ],
   "source": [
    "u0_opt([2/3, 2/3])"
   ]
  },
  {
   "cell_type": "code",
   "execution_count": 14,
   "id": "829832d0",
   "metadata": {},
   "outputs": [
    {
     "name": "stdout",
     "output_type": "stream",
     "text": [
      "Solving for t == 0.0025\n",
      "Done!\n",
      "Solving for t == 0.005\n",
      "Done!\n",
      "Solving for t == 0.0075\n",
      "Done!\n",
      "Solving for t == 0.01\n",
      "Done!\n",
      "Solving for t == 0.0125\n",
      "Done!\n",
      "Solving for t == 0.015000000000000001\n",
      "Done!\n",
      "Solving for t == 0.0175\n",
      "Done!\n",
      "Solving for t == 0.02\n",
      "Done!\n",
      "Solving for t == 0.0225\n",
      "Done!\n",
      "Solving for t == 0.024999999999999998\n",
      "Done!\n",
      "Solving for t == 0.027499999999999997\n",
      "Done!\n",
      "Solving for t == 0.029999999999999995\n",
      "Done!\n",
      "Solving for t == 0.032499999999999994\n",
      "Done!\n",
      "Solving for t == 0.034999999999999996\n",
      "Done!\n",
      "Solving for t == 0.0375\n",
      "Done!\n",
      "Solving for t == 0.04\n",
      "Done!\n",
      "Solving for t == 0.0425\n",
      "Done!\n",
      "Solving for t == 0.045000000000000005\n",
      "Done!\n",
      "Solving for t == 0.04750000000000001\n",
      "Done!\n",
      "Solving for t == 0.05000000000000001\n",
      "Done!\n",
      "Solving for t == 0.05250000000000001\n",
      "Done!\n",
      "Solving for t == 0.055000000000000014\n",
      "Done!\n",
      "Solving for t == 0.057500000000000016\n",
      "Done!\n",
      "Solving for t == 0.06000000000000002\n",
      "Done!\n",
      "Solving for t == 0.06250000000000001\n",
      "Done!\n",
      "Solving for t == 0.06500000000000002\n",
      "Done!\n",
      "Solving for t == 0.06750000000000002\n",
      "Done!\n",
      "Solving for t == 0.07000000000000002\n",
      "Done!\n",
      "Solving for t == 0.07250000000000002\n",
      "Done!\n",
      "Solving for t == 0.07500000000000002\n",
      "Done!\n",
      "Solving for t == 0.07750000000000003\n",
      "Done!\n",
      "Solving for t == 0.08000000000000003\n",
      "Done!\n",
      "Solving for t == 0.08250000000000003\n",
      "Done!\n",
      "Solving for t == 0.08500000000000003\n",
      "Done!\n",
      "Solving for t == 0.08750000000000004\n",
      "Done!\n",
      "Solving for t == 0.09000000000000004\n",
      "Done!\n",
      "Solving for t == 0.09250000000000004\n",
      "Done!\n",
      "Solving for t == 0.09500000000000004\n",
      "Done!\n",
      "Solving for t == 0.09750000000000004\n",
      "Done!\n",
      "Solving for t == 0.10000000000000005\n",
      "Done!\n"
     ]
    }
   ],
   "source": [
    "u0_opt.rename('u','u')\n",
    "\n",
    "u0 = interpolate(u0_opt, V)\n",
    "u = u0.copy(deepcopy=True)\n",
    "\n",
    "phi_prev = phi0.copy(deepcopy=True) \n",
    "phi_next = phi0.copy(deepcopy=True) \n",
    "\n",
    "T = tau\n",
    "t = 0.0\n",
    "v = TestFunction(V)\n",
    "\n",
    "states = [phi0.copy(deepcopy=True)]\n",
    "controls = [u0.copy(deepcopy=True) ]\n",
    "times = [float(t)]\n",
    "timestep = 0\n",
    "file = File('NullControls/sol.pvd')\n",
    "states[-1].rename('phi','phi')\n",
    "file << (states[-1], 0)\n",
    "while abs(T-t)>=tol :\n",
    "    print(\"Solving for t == %s\" % (t + dt))\n",
    "    \n",
    "    F = inner((phi_next - phi_prev) / Constant(dt), v) * dx + inner(grad(phi_next), grad(v)) * dx - (u * ind_O) * v * dx\n",
    "    solve(F == 0, phi_next, bc, annotate=True) # This is how dolfin-adjoint records the dependency of the control in each timestep\n",
    "    \n",
    "    phi_prev.assign(phi_next, annotate=True)\n",
    "    \n",
    "    t += dt\n",
    "    timestep += 1\n",
    "    \n",
    "    states.append(phi_next.copy(deepcopy=True, annotate=True))\n",
    "    \n",
    "    times.append(float(t))\n",
    "    states[-1].rename('phi','phi')\n",
    "    \n",
    "    file << (states[-1],t)\n",
    "    \n",
    "    print(\"Done!\")"
   ]
  },
  {
   "cell_type": "code",
   "execution_count": 15,
   "id": "5d865816",
   "metadata": {},
   "outputs": [
    {
     "data": {
      "image/png": "[encoded data removed]",
      "text/plain": [
       "<Figure size 640x480 with 1 Axes>"
      ]
     },
     "metadata": {},
     "output_type": "display_data"
    }
   ],
   "source": [
    "t = 0\n",
    "img = []\n",
    "for i in range(100):\n",
    "    row = []\n",
    "    for j in range(100):\n",
    "        row.append(states[t]([i/99,j/99]))\n",
    "    img.append(row)\n",
    "plt.imshow(img, vmin=-2, vmax=2)\n",
    "plt.title(t)\n",
    "t+=1"
   ]
  },
  {
   "cell_type": "code",
   "execution_count": 16,
   "id": "7c54fbb6",
   "metadata": {},
   "outputs": [
    {
     "data": {
      "image/png": "[encoded data removed]",
      "text/plain": [
       "<Figure size 640x480 with 1 Axes>"
      ]
     },
     "metadata": {},
     "output_type": "display_data"
    }
   ],
   "source": [
    "t = 1\n",
    "img = []\n",
    "for i in range(100):\n",
    "    row = []\n",
    "    for j in range(100):\n",
    "        row.append(u0_opt([i/99,j/99]))\n",
    "    img.append(row)\n",
    "plt.imshow(img)\n",
    "plt.title(t);"
   ]
  },
  {
   "cell_type": "markdown",
   "id": "5e7fa83c",
   "metadata": {},
   "source": [
    "# u0_opt.vector().array()\n",
    "https://fenicsproject.org/qa/3975/interpolating-vector-function-from-python-code-to-fenics/"
   ]
  }
 ],
 "metadata": {
  "kernelspec": {
   "display_name": "Python 3 (ipykernel)",
   "language": "python",
   "name": "python3"
  },
  "language_info": {
   "codemirror_mode": {
    "name": "ipython",
    "version": 3
   },
   "file_extension": ".py",
   "mimetype": "text/x-python",
   "name": "python",
   "nbconvert_exporter": "python",
   "pygments_lexer": "ipython3",
   "version": "3.10.6"
  }
 },
 "nbformat": 4,
 "nbformat_minor": 5
}
