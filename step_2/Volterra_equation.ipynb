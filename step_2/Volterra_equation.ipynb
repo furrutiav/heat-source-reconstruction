{
 "cells": [
  {
   "cell_type": "markdown",
   "id": "dfd44355",
   "metadata": {},
   "source": [
    "En el trabajo de Arturo se menciona la ecuacion de Volterra "
   ]
  },
  {
   "cell_type": "code",
   "execution_count": null,
   "id": "a9fedda1",
   "metadata": {},
   "outputs": [],
   "source": []
  },
  {
   "cell_type": "code",
   "execution_count": null,
   "id": "a7771300",
   "metadata": {},
   "outputs": [],
   "source": []
  }
 ],
 "metadata": {
  "kernelspec": {
   "display_name": "Python 3 (ipykernel)",
   "language": "python",
   "name": "python3"
  },
  "language_info": {
   "codemirror_mode": {
    "name": "ipython",
    "version": 3
   },
   "file_extension": ".py",
   "mimetype": "text/x-python",
   "name": "python",
   "nbconvert_exporter": "python",
   "pygments_lexer": "ipython3",
   "version": "3.10.6"
  }
 },
 "nbformat": 4,
 "nbformat_minor": 5
}
