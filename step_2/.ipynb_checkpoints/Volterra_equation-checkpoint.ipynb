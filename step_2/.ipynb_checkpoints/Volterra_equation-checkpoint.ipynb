{
 "cells": [
  {
   "cell_type": "markdown",
   "id": "759bbe70",
   "metadata": {},
   "source": [
    "En el trabajo de Arturo se menciona la ecuacion de Volterra "
   ]
  },
  {
   "cell_type": "code",
   "execution_count": 1,
   "id": "281ab0bf",
   "metadata": {},
   "outputs": [],
   "source": [
    "import pickle"
   ]
  },
  {
   "cell_type": "code",
   "execution_count": 3,
   "id": "88723b2f",
   "metadata": {},
   "outputs": [
    {
     "data": {
      "text/plain": [
       "{'control': array([ 0.        ,  0.00211264,  0.00211264, ..., -0.00211264,\n",
       "        -0.00211264,  0.        ]),\n",
       " 'x': array([0.     , 0.     , 0.03125, ..., 0.96875, 1.     , 1.     ]),\n",
       " 'y': array([1.     , 0.96875, 1.     , ..., 0.     , 0.03125, 0.     ])}"
      ]
     },
     "execution_count": 3,
     "metadata": {},
     "output_type": "execute_result"
    }
   ],
   "source": [
    "control = pickle.load(open(\"../step_1/Control.pickle\", \"rb\"))\n",
    "control"
   ]
  },
  {
   "cell_type": "markdown",
   "id": "474b6665",
   "metadata": {},
   "source": []
  },
  {
   "cell_type": "code",
   "execution_count": null,
   "id": "c4d46eac",
   "metadata": {},
   "outputs": [],
   "source": []
  },
  {
   "cell_type": "code",
   "execution_count": 4,
   "id": "14762d7e",
   "metadata": {},
   "outputs": [],
   "source": [
    "tau = 0.1\n",
    "dt = 0.0025"
   ]
  },
  {
   "cell_type": "code",
   "execution_count": 6,
   "id": "adc61355",
   "metadata": {},
   "outputs": [
    {
     "data": {
      "text/plain": [
       "40"
      ]
     },
     "execution_count": 6,
     "metadata": {},
     "output_type": "execute_result"
    }
   ],
   "source": [
    "N = int(tau/dt)\n",
    "N"
   ]
  },
  {
   "cell_type": "code",
   "execution_count": 125,
   "id": "2bbc880a",
   "metadata": {},
   "outputs": [
    {
     "data": {
      "text/plain": [
       "0.0021126359921771146"
      ]
     },
     "execution_count": 125,
     "metadata": {},
     "output_type": "execute_result"
    }
   ],
   "source": [
    "ix = 1\n",
    "x_ix, y_ix = control[\"x\"][ix], control[\"y\"][ix]\n",
    "control_ix = control[\"control\"][ix]\n",
    "control_ix"
   ]
  },
  {
   "cell_type": "code",
   "execution_count": 11,
   "id": "ca4d6f40",
   "metadata": {},
   "outputs": [],
   "source": [
    "t = dt*0"
   ]
  },
  {
   "cell_type": "code",
   "execution_count": 12,
   "id": "695ae37e",
   "metadata": {},
   "outputs": [],
   "source": [
    "sigma = lambda t: 1"
   ]
  },
  {
   "cell_type": "code",
   "execution_count": 15,
   "id": "d0eccd1f",
   "metadata": {},
   "outputs": [],
   "source": [
    "import numpy as np"
   ]
  },
  {
   "cell_type": "code",
   "execution_count": 126,
   "id": "6f6d6c95",
   "metadata": {},
   "outputs": [],
   "source": [
    "v_tilde = np.array([\n",
    "    [0],\n",
    "    [control_ix]\n",
    "])\n",
    "\n",
    "L0 = np.array([\n",
    "    [1, 0],\n",
    "    [0, sigma(0)]\n",
    "])\n",
    "\n",
    "def M_ts(t, s):\n",
    "    return np.array([\n",
    "        [0, 1],\n",
    "        [sigma(s-t), (sigma(s-t+dt)-sigma(s-t))/dt]\n",
    "    ])"
   ]
  },
  {
   "cell_type": "code",
   "execution_count": 127,
   "id": "f3bf9621",
   "metadata": {},
   "outputs": [],
   "source": [
    "from scipy.linalg import block_diag"
   ]
  },
  {
   "cell_type": "code",
   "execution_count": 128,
   "id": "66aa3ede",
   "metadata": {},
   "outputs": [
    {
     "data": {
      "text/plain": [
       "array([[1, 0, 0, ..., 0, 0, 0],\n",
       "       [0, 1, 0, ..., 0, 0, 0],\n",
       "       [0, 0, 1, ..., 0, 0, 0],\n",
       "       ...,\n",
       "       [0, 0, 0, ..., 1, 0, 0],\n",
       "       [0, 0, 0, ..., 0, 1, 0],\n",
       "       [0, 0, 0, ..., 0, 0, 1]])"
      ]
     },
     "execution_count": 128,
     "metadata": {},
     "output_type": "execute_result"
    }
   ],
   "source": [
    "ell_0 = block_diag(*[L0 for _ in range(N+1)])\n",
    "ell_0"
   ]
  },
  {
   "cell_type": "code",
   "execution_count": 129,
   "id": "cf8c6276",
   "metadata": {},
   "outputs": [
    {
     "data": {
      "text/plain": [
       "(82, 82)"
      ]
     },
     "execution_count": 129,
     "metadata": {},
     "output_type": "execute_result"
    }
   ],
   "source": [
    "ell_0.shape"
   ]
  },
  {
   "cell_type": "code",
   "execution_count": 130,
   "id": "e98ffdde",
   "metadata": {},
   "outputs": [
    {
     "data": {
      "text/plain": [
       "array([[0., 1., 0., ..., 2., 0., 1.],\n",
       "       [1., 0., 2., ..., 0., 1., 0.],\n",
       "       [0., 0., 0., ..., 2., 0., 1.],\n",
       "       ...,\n",
       "       [0., 0., 0., ..., 0., 1., 0.],\n",
       "       [0., 0., 0., ..., 0., 0., 0.],\n",
       "       [0., 0., 0., ..., 0., 0., 0.]])"
      ]
     },
     "execution_count": 130,
     "metadata": {},
     "output_type": "execute_result"
    }
   ],
   "source": [
    "raw_em_N = np.array([\n",
    "    [M_ts(dt*i, dt*j) if (i==j or j==N) and i!=N else 2*M_ts(dt*i, dt*j) if i<j and i!=N else 0*M_ts(dt*i, dt*j) for j in range(N+1)]\n",
    "    for i in range(N+1)\n",
    "])\n",
    "em_N = np.concatenate(raw_em_N[0], axis=1)\n",
    "for i in range(1, raw_em_N.shape[0]):\n",
    "    em_N = np.concatenate([em_N, np.concatenate(raw_em_N[i], axis=1)])\n",
    "em_N"
   ]
  },
  {
   "cell_type": "code",
   "execution_count": 131,
   "id": "bef71fc6",
   "metadata": {},
   "outputs": [],
   "source": [
    "A = ell_0 + (dt/2) * em_N"
   ]
  },
  {
   "cell_type": "code",
   "execution_count": 144,
   "id": "78551103",
   "metadata": {},
   "outputs": [
    {
     "data": {
      "text/plain": [
       "array([0.        , 0.00211264, 0.        , 0.00211264, 0.        ,\n",
       "       0.00211264, 0.        , 0.00211264, 0.        , 0.00211264,\n",
       "       0.        , 0.00211264, 0.        , 0.00211264, 0.        ,\n",
       "       0.00211264, 0.        , 0.00211264, 0.        , 0.00211264,\n",
       "       0.        , 0.00211264, 0.        , 0.00211264, 0.        ,\n",
       "       0.00211264, 0.        , 0.00211264, 0.        , 0.00211264,\n",
       "       0.        , 0.00211264, 0.        , 0.00211264, 0.        ,\n",
       "       0.00211264, 0.        , 0.00211264, 0.        , 0.00211264,\n",
       "       0.        , 0.00211264, 0.        , 0.00211264, 0.        ,\n",
       "       0.00211264, 0.        , 0.00211264, 0.        , 0.00211264,\n",
       "       0.        , 0.00211264, 0.        , 0.00211264, 0.        ,\n",
       "       0.00211264, 0.        , 0.00211264, 0.        , 0.00211264,\n",
       "       0.        , 0.00211264, 0.        , 0.00211264, 0.        ,\n",
       "       0.00211264, 0.        , 0.00211264, 0.        , 0.00211264,\n",
       "       0.        , 0.00211264, 0.        , 0.00211264, 0.        ,\n",
       "       0.00211264, 0.        , 0.00211264, 0.        , 0.00211264,\n",
       "       0.        , 0.00211264])"
      ]
     },
     "execution_count": 144,
     "metadata": {},
     "output_type": "execute_result"
    }
   ],
   "source": [
    "raw_b = np.array([\n",
    "    v_tilde\n",
    "    for _ in range(N+1)\n",
    "])\n",
    "b = np.concatenate(raw_b, axis=0).flatten()\n",
    "b"
   ]
  },
  {
   "cell_type": "code",
   "execution_count": 145,
   "id": "089eca3e",
   "metadata": {},
   "outputs": [],
   "source": [
    "from scipy.linalg import solve"
   ]
  },
  {
   "cell_type": "code",
   "execution_count": 146,
   "id": "f1096700",
   "metadata": {},
   "outputs": [
    {
     "data": {
      "text/plain": [
       "(82, 82)"
      ]
     },
     "execution_count": 146,
     "metadata": {},
     "output_type": "execute_result"
    }
   ],
   "source": [
    "A.shape"
   ]
  },
  {
   "cell_type": "code",
   "execution_count": 147,
   "id": "58d1877d",
   "metadata": {},
   "outputs": [
    {
     "data": {
      "text/plain": [
       "(82,)"
      ]
     },
     "execution_count": 147,
     "metadata": {},
     "output_type": "execute_result"
    }
   ],
   "source": [
    "b.shape"
   ]
  },
  {
   "cell_type": "code",
   "execution_count": 151,
   "id": "ef647282",
   "metadata": {},
   "outputs": [
    {
     "data": {
      "text/plain": [
       "array([-2.11615992e-04,  2.12320799e-03, -2.06308625e-04,  2.12268558e-03,\n",
       "       -2.01002547e-04,  2.12217644e-03, -1.95697726e-04,  2.12168057e-03,\n",
       "       -1.90394128e-04,  2.12119795e-03, -1.85091720e-04,  2.12072860e-03,\n",
       "       -1.79790468e-04,  2.12027249e-03, -1.74490341e-04,  2.11982964e-03,\n",
       "       -1.69191304e-04,  2.11940004e-03, -1.63893324e-04,  2.11898368e-03,\n",
       "       -1.58596369e-04,  2.11858057e-03, -1.53300405e-04,  2.11819070e-03,\n",
       "       -1.48005399e-04,  2.11781407e-03, -1.42711318e-04,  2.11745067e-03,\n",
       "       -1.37418129e-04,  2.11710051e-03, -1.32125799e-04,  2.11676358e-03,\n",
       "       -1.26834294e-04,  2.11643988e-03, -1.21543583e-04,  2.11612941e-03,\n",
       "       -1.16253631e-04,  2.11583216e-03, -1.10964405e-04,  2.11554814e-03,\n",
       "       -1.05675873e-04,  2.11527734e-03, -1.00388002e-04,  2.11501976e-03,\n",
       "       -9.51007581e-05,  2.11477540e-03, -8.98141086e-05,  2.11454426e-03,\n",
       "       -8.45280203e-05,  2.11432633e-03, -7.92424604e-05,  2.11412161e-03,\n",
       "       -7.39573957e-05,  2.11393012e-03, -6.86727933e-05,  2.11375183e-03,\n",
       "       -6.33886201e-05,  2.11358675e-03, -5.81048430e-05,  2.11343488e-03,\n",
       "       -5.28214291e-05,  2.11329623e-03, -4.75383454e-05,  2.11317078e-03,\n",
       "       -4.22555588e-05,  2.11305853e-03, -3.69730362e-05,  2.11295950e-03,\n",
       "       -3.16907448e-05,  2.11287367e-03, -2.64086514e-05,  2.11280104e-03,\n",
       "       -2.11267230e-05,  2.11274162e-03, -1.58449267e-05,  2.11269541e-03,\n",
       "       -1.05632295e-05,  2.11266240e-03, -5.28159823e-06,  2.11264259e-03,\n",
       "        0.00000000e+00,  2.11263599e-03])"
      ]
     },
     "execution_count": 151,
     "metadata": {},
     "output_type": "execute_result"
    }
   ],
   "source": [
    "theta = solve(A, b)\n",
    "theta"
   ]
  }
 ],
 "metadata": {
  "kernelspec": {
   "display_name": "Python 3 (ipykernel)",
   "language": "python",
   "name": "python3"
  },
  "language_info": {
   "codemirror_mode": {
    "name": "ipython",
    "version": 3
   },
   "file_extension": ".py",
   "mimetype": "text/x-python",
   "name": "python",
   "nbconvert_exporter": "python",
   "pygments_lexer": "ipython3",
   "version": "3.10.6"
  }
 },
 "nbformat": 4,
 "nbformat_minor": 5
}
