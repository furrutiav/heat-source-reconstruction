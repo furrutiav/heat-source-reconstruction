{
 "cells": [
  {
   "cell_type": "markdown",
   "metadata": {},
   "source": [
    "In this notebook, we resolve the problem\n",
    "$$\n",
    "\\min_{g, u, p} \\ \\frac{1}{2}\\int_{\\Omega} \\nabla u \\cdot \\nabla u~\\textrm{d}x +  \\frac{\\alpha}{2} \\int_{\\partial \\Omega_{\\textrm{circle}}} g^2~\\textrm{d}s\n",
    "$$\n",
    "where $\\alpha>0$ and $(u,p)$ are the solution of Stokes equations\n",
    "$$\n",
    "\\begin{split}-\\nu \\Delta u + \\nabla p &= 0  \\qquad \\mathrm{in} \\ \\Omega \\\\\n",
    "                  \\mathrm{div }\\  u &= 0  \\qquad \\mathrm{in} \\ \\Omega  \\\\\\end{split}\n",
    "$$\n",
    "with boundary conditions given by\n",
    "$$\n",
    "\\begin{split}\n",
    "u &= g  \\qquad \\mathrm{on} \\ \\partial \\Omega_{\\textrm{cirlce}} \\\\\n",
    "u &= u_D  \\qquad \\mathrm{on} \\ \\partial \\Omega_{\\textrm{in}} \\\\\n",
    "u &= 0  \\qquad \\mathrm{on} \\ \\partial \\Omega_{\\textrm{walls}} \\\\\n",
    "-\\nu\\dfrac{\\partial u}{\\partial n}+p n &= 0  \\qquad \\mathrm{on} \\ \\partial \\Omega_{\\textrm{out}} \\\\\\end{split}\n",
    "$$\n",
    "where $u_0\\in L^2 (\\partial \\Omega_{\\textrm{in}})$ and $g\\in L^2 (\\partial \\Omega_{\\textrm{circle}})$"
   ]
  },
  {
   "cell_type": "code",
   "execution_count": 1,
   "metadata": {},
   "outputs": [
    {
     "name": "stdout",
     "output_type": "stream",
     "text": [
      "|Iter.||    J(.)    |\n",
      "|    0|| 18.91127871|\n",
      "|    1|| 14.38854649|\n",
      "|    2||  2.52672879|\n",
      "|    3||  5.18453727|\n",
      "|    4||  2.38053833|\n",
      "|    5||  2.32617707|\n",
      "|    6||  2.29128671|\n",
      "|    7||  2.25672401|\n",
      "|    8||  2.26366542|\n",
      "|    9||  2.24953347|\n",
      "|   10||  2.24717345|\n",
      "|   11||  2.24605999|\n",
      "|   12||  2.24499267|\n",
      "|   13||  2.24383669|\n",
      "|   14||  2.24329263|\n",
      "|   15||  2.24296433|\n",
      "|   16||  2.24288501|\n",
      "|   17||  2.24280499|\n",
      "|   18||  2.24283933|\n",
      "|   19||  2.24278843|\n",
      "|   20||  2.24277533|\n",
      "|   21||  2.24277307|\n",
      "|   22||  2.24277191|\n"
     ]
    }
   ],
   "source": [
    "from __future__ import print_function\n",
    "from dolfin import *\n",
    "from dolfin_adjoint import *\n",
    "import numpy as np\n",
    "import scipy as sp\n",
    "import cmath\n",
    "import matplotlib.pyplot as plt\n",
    "from mshr import *\n",
    "import os\n",
    "\n",
    "set_log_level(LogLevel.WARNING)\n",
    "# Loading Mesh\n",
    "mesh1 = Mesh(\"malla_real.xml\")\n",
    "boundaries1 = MeshFunction(\"size_t\",mesh1,\"malla_real_facet_region.xml\")\n",
    "# Defining FEM spaces\n",
    "P2 = VectorElement(\"Lagrange\",mesh1.ufl_cell(),2)\n",
    "p1 = VectorElement(\"Lagrange\",mesh1.ufl_cell(),1)\n",
    "P1 = FiniteElement(\"Lagrange\",mesh1.ufl_cell(),1)\n",
    "TH = P2*P1\n",
    "W = FunctionSpace(mesh1,TH)\n",
    "V2 = FunctionSpace(mesh1,P2)\n",
    "V = FunctionSpace(mesh1,P1)\n",
    "v1 = FunctionSpace(mesh1,p1)\n",
    "\n",
    "# Inflow\n",
    "vel_max=1\n",
    "uD=(Expression(('vel_max*(x[1]+1)*(1-x[1])','0'),degree=2,vel_max=vel_max))\n",
    "# Control\n",
    "g=Function(V2)\n",
    "# Boundary Conditions\n",
    "noslip=DirichletBC(W.sub(0),(0, 0),boundaries1,2)\n",
    "inflow=DirichletBC(W.sub(0),uD,boundaries1,1)\n",
    "circle=DirichletBC(W.sub(0),g,boundaries1,4)\n",
    "bcs=[noslip,inflow,circle]\n",
    "# Variational Problem\n",
    "v, q = TestFunctions(W)\n",
    "w = Function(W)\n",
    "u, p = split(w)\n",
    "nu=1\n",
    "f=Constant((0,0))\n",
    "F=(nu*inner(grad(u),grad(v))-div(v)*p+q*div(u))*dx\n",
    "solve(F==0,w,bcs,solver_parameters={\"newton_solver\": {\"maximum_iterations\":15, \"linear_solver\":\"mumps\", \"relative_tolerance\": 1e-10, \"absolute_tolerance\": 1e-12}})\n",
    "(u,p)=w.split()\n",
    "m=Control(g)\n",
    "# Defining functional\n",
    "alpha=1e-6\n",
    "J = assemble(1/2*(inner(grad(u),grad(u))*dx+alpha*inner(g,g)*ds(4)))\n",
    "iter=0\n",
    "s = Function(W,name=\"State\")\n",
    "vtkfile_control = File('Boundary/control.pvd')\n",
    "vtkfile_state = File('Boundary/state.pvd')\n",
    "# We can obtain extra information (plots of states and controls, values of J, etc.)  on each derivative evaluation\n",
    "def eval_cb(j,dj,m):\n",
    "    global iter\n",
    "    global s\n",
    "    uk, pk = split(s)\n",
    "    v, q = TestFunctions(W)\n",
    "    noslip_=DirichletBC(W.sub(0),(0, 0),boundaries1,2)\n",
    "    inflow_=DirichletBC(W.sub(0),uD,boundaries1,1)\n",
    "    circle_=DirichletBC(W.sub(0),m,boundaries1,4)\n",
    "    bcs_=[noslip_,inflow_,circle_]\n",
    "    F_=(nu*inner(grad(uk),grad(v))-div(v)*pk+q*div(uk))*dx\n",
    "    solve(F_==0,s,bcs_,solver_parameters={\"newton_solver\": {\"maximum_iterations\":15, \"linear_solver\":\"mumps\", \"relative_tolerance\": 1e-10, \"absolute_tolerance\": 1e-12}})\n",
    "    (uk,pk)=s.split()\n",
    "    m.rename('control','control')\n",
    "    uk.rename('u','u')\n",
    "    vtkfile_control << (m,iter)\n",
    "    vtkfile_state   << (uk,iter)\n",
    "    if iter==0:\n",
    "        print('{0}{1:^5}{0}{0}{2:^12}{0}'.format('|', 'Iter.', 'J(.)'))\n",
    "    print('{0}{1:>5d}{0}{0}{2:>12.8f}{0}'.format('|',iter,j))\n",
    "    iter=iter+1\n",
    "# We define the minimize problem\n",
    "RJ = ReducedFunctional(J,m,derivative_cb_post=eval_cb)\n",
    "UI_OPT=minimize(RJ,method='L-BFGS-B',tol = 1e-8,options={'maxiter': 1000,'ftol': 1e-6, 'gtol': 1e-5})\n",
    "# Plots of solutions were generated by eval_cb function"
   ]
  },
  {
   "cell_type": "code",
   "execution_count": 1,
   "metadata": {},
   "outputs": [
    {
     "data": {
      "text/plain": [
       "0"
      ]
     },
     "execution_count": 1,
     "metadata": {},
     "output_type": "execute_result"
    }
   ],
   "source": [
    "import os\n",
    "os.system('python3 Boundary.py')"
   ]
  },
  {
   "cell_type": "code",
   "execution_count": null,
   "metadata": {},
   "outputs": [],
   "source": []
  }
 ],
 "metadata": {
  "kernelspec": {
   "display_name": "Python 3 (ipykernel)",
   "language": "python",
   "name": "python3"
  },
  "language_info": {
   "codemirror_mode": {
    "name": "ipython",
    "version": 3
   },
   "file_extension": ".py",
   "mimetype": "text/x-python",
   "name": "python",
   "nbconvert_exporter": "python",
   "pygments_lexer": "ipython3",
   "version": "3.10.6"
  }
 },
 "nbformat": 4,
 "nbformat_minor": 4
}
