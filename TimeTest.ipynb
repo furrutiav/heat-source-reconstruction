{
 "cells": [
  {
   "cell_type": "markdown",
   "metadata": {},
   "source": [
    "In this notebook, we resolve the problem\n",
    "$$\n",
    "\\min_{u, u_0} \\ \\frac{1}{2}\\int_{0}^{T}\\int_{\\Omega} |u-u_R|^2\\textrm{d}x\\textrm{d}t+\\frac{\\alpha}{2}\\int_{\\Omega} |u_0|^2\\textrm{d}x\n",
    "$$\n",
    "subject to Heat equation\n",
    "$$\n",
    "\\dfrac{\\partial u}{\\partial t}-\\nu\\Delta u = 0  \\qquad \\mathrm{in } \\ \\Omega\\times (0,T)\n",
    "$$\n",
    "with initial and Dirichlet boundary conditions\n",
    "$$\n",
    "\\begin{split}\n",
    "u&= 0  \\qquad \\mathrm{on} \\ \\partial \\Omega \\times (0,T)\\\\\n",
    "u(\\cdot,0) &= u_0  \\qquad \\mathrm{on} \\ \\Omega \\\\\\end{split}\n",
    "$$\n",
    "where $u_R(x,y,t)=\\exp(-8\\pi^2 t)\\sin(2\\pi x)\\sin(2\\pi y)$ and $u_0\\in L^2 (\\Omega)$"
   ]
  },
  {
   "cell_type": "code",
   "execution_count": 1,
   "metadata": {},
   "outputs": [
    {
     "name": "stdout",
     "output_type": "stream",
     "text": [
      "Calling FFC just-in-time (JIT) compiler, this may take some time.\n",
      "Calling FFC just-in-time (JIT) compiler, this may take some time.\n"
     ]
    },
    {
     "ename": "KeyboardInterrupt",
     "evalue": "",
     "output_type": "error",
     "traceback": [
      "\u001b[0;31m---------------------------------------------------------------------------\u001b[0m",
      "\u001b[0;31mKeyboardInterrupt\u001b[0m                         Traceback (most recent call last)",
      "Cell \u001b[0;32mIn [1], line 42\u001b[0m\n\u001b[1;32m     40\u001b[0m \u001b[38;5;66;03m# Defining reference solution\u001b[39;00m\n\u001b[1;32m     41\u001b[0m \u001b[38;5;28;01mfor\u001b[39;00m j \u001b[38;5;129;01min\u001b[39;00m np\u001b[38;5;241m.\u001b[39marange(\u001b[38;5;241m0\u001b[39m,steps):\n\u001b[0;32m---> 42\u001b[0m     w\u001b[38;5;241m=\u001b[39minterpolate(Expression(\u001b[38;5;124m\"\u001b[39m\u001b[38;5;124mexp(-8*pi*pi*t)*sin(2*pi*x[0])*sin(2*pi*x[1])\u001b[39m\u001b[38;5;124m\"\u001b[39m,t\u001b[38;5;241m=\u001b[39mtimes[j],degree\u001b[38;5;241m=\u001b[39m\u001b[38;5;241m1\u001b[39m), V)\n\u001b[1;32m     43\u001b[0m     \u001b[38;5;28;01mif\u001b[39;00m j\u001b[38;5;241m==\u001b[39m\u001b[38;5;241m0\u001b[39m:\n\u001b[1;32m     44\u001b[0m         reference \u001b[38;5;241m=\u001b[39m [w\u001b[38;5;241m.\u001b[39mcopy(deepcopy\u001b[38;5;241m=\u001b[39m\u001b[38;5;28;01mTrue\u001b[39;00m)]\n",
      "File \u001b[0;32m~/.local/lib/python3.10/site-packages/fenics_adjoint/types/expression.py:152\u001b[0m, in \u001b[0;36mExpression.__init__\u001b[0;34m(self, *args, **kwargs)\u001b[0m\n\u001b[1;32m    150\u001b[0m annotate \u001b[38;5;241m=\u001b[39m annotate_tape(kwargs)\n\u001b[1;32m    151\u001b[0m BaseExpression\u001b[38;5;241m.\u001b[39m\u001b[38;5;21m__init__\u001b[39m(\u001b[38;5;28mself\u001b[39m, \u001b[38;5;241m*\u001b[39margs, \u001b[38;5;241m*\u001b[39m\u001b[38;5;241m*\u001b[39mkwargs, annotate\u001b[38;5;241m=\u001b[39mannotate)\n\u001b[0;32m--> 152\u001b[0m \u001b[43mbackend\u001b[49m\u001b[38;5;241;43m.\u001b[39;49m\u001b[43mExpression\u001b[49m\u001b[38;5;241;43m.\u001b[39;49m\u001b[38;5;21;43m__init__\u001b[39;49m\u001b[43m(\u001b[49m\u001b[38;5;28;43mself\u001b[39;49m\u001b[43m,\u001b[49m\u001b[43m \u001b[49m\u001b[38;5;241;43m*\u001b[39;49m\u001b[43margs\u001b[49m\u001b[43m,\u001b[49m\u001b[43m \u001b[49m\u001b[38;5;241;43m*\u001b[39;49m\u001b[38;5;241;43m*\u001b[39;49m\u001b[43mkwargs\u001b[49m\u001b[43m)\u001b[49m\n\u001b[1;32m    154\u001b[0m \u001b[38;5;28;01mfor\u001b[39;00m k, v \u001b[38;5;129;01min\u001b[39;00m kwargs\u001b[38;5;241m.\u001b[39mitems():\n\u001b[1;32m    155\u001b[0m     \u001b[38;5;28;01mif\u001b[39;00m k \u001b[38;5;129;01mnot\u001b[39;00m \u001b[38;5;129;01min\u001b[39;00m _IGNORED_EXPRESSION_ATTRIBUTES:\n",
      "File \u001b[0;32m/usr/lib/petsc/lib/python3/dist-packages/dolfin/function/expression.py:400\u001b[0m, in \u001b[0;36mExpression.__init__\u001b[0;34m(self, cpp_code, *args, **kwargs)\u001b[0m\n\u001b[1;32m    397\u001b[0m         \u001b[38;5;28;01mif\u001b[39;00m \u001b[38;5;129;01mnot\u001b[39;00m \u001b[38;5;28misinstance\u001b[39m(k, \u001b[38;5;28mstr\u001b[39m):\n\u001b[1;32m    398\u001b[0m             \u001b[38;5;28;01mraise\u001b[39;00m \u001b[38;5;167;01mKeyError\u001b[39;00m(\u001b[38;5;124m\"\u001b[39m\u001b[38;5;124mUser parameter key must be a string\u001b[39m\u001b[38;5;124m\"\u001b[39m)\n\u001b[0;32m--> 400\u001b[0m     \u001b[38;5;28mself\u001b[39m\u001b[38;5;241m.\u001b[39m_cpp_object \u001b[38;5;241m=\u001b[39m \u001b[43mjit\u001b[49m\u001b[38;5;241;43m.\u001b[39;49m\u001b[43mcompile_expression\u001b[49m\u001b[43m(\u001b[49m\u001b[43mcpp_code\u001b[49m\u001b[43m,\u001b[49m\u001b[43m \u001b[49m\u001b[43mparams\u001b[49m\u001b[43m)\u001b[49m\n\u001b[1;32m    401\u001b[0m     \u001b[38;5;28mself\u001b[39m\u001b[38;5;241m.\u001b[39m_parameters \u001b[38;5;241m=\u001b[39m ExpressionParameters(\u001b[38;5;28mself\u001b[39m\u001b[38;5;241m.\u001b[39m_cpp_object, params)\n\u001b[1;32m    403\u001b[0m \u001b[38;5;28;01mif\u001b[39;00m element \u001b[38;5;129;01mand\u001b[39;00m degree:\n",
      "File \u001b[0;32m/usr/lib/petsc/lib/python3/dist-packages/dolfin/function/jit.py:158\u001b[0m, in \u001b[0;36mcompile_expression\u001b[0;34m(statements, properties)\u001b[0m\n\u001b[1;32m    154\u001b[0m mpi_comm \u001b[38;5;241m=\u001b[39m properties\u001b[38;5;241m.\u001b[39mpop(\u001b[38;5;124m\"\u001b[39m\u001b[38;5;124mmpi_comm\u001b[39m\u001b[38;5;124m\"\u001b[39m, MPI\u001b[38;5;241m.\u001b[39mcomm_world)\n\u001b[1;32m    155\u001b[0m cpp_data \u001b[38;5;241m=\u001b[39m {\u001b[38;5;124m'\u001b[39m\u001b[38;5;124mstatements\u001b[39m\u001b[38;5;124m'\u001b[39m: statements, \u001b[38;5;124m'\u001b[39m\u001b[38;5;124mproperties\u001b[39m\u001b[38;5;124m'\u001b[39m: properties,\n\u001b[1;32m    156\u001b[0m             \u001b[38;5;124m'\u001b[39m\u001b[38;5;124mname\u001b[39m\u001b[38;5;124m'\u001b[39m: \u001b[38;5;124m'\u001b[39m\u001b[38;5;124mexpression\u001b[39m\u001b[38;5;124m'\u001b[39m, \u001b[38;5;124m'\u001b[39m\u001b[38;5;124mjit_generate\u001b[39m\u001b[38;5;124m'\u001b[39m: jit_generate}\n\u001b[0;32m--> 158\u001b[0m expression \u001b[38;5;241m=\u001b[39m \u001b[43mcompile_class\u001b[49m\u001b[43m(\u001b[49m\u001b[43mcpp_data\u001b[49m\u001b[43m,\u001b[49m\u001b[43m \u001b[49m\u001b[43mmpi_comm\u001b[49m\u001b[38;5;241;43m=\u001b[39;49m\u001b[43mmpi_comm\u001b[49m\u001b[43m)\u001b[49m\n\u001b[1;32m    159\u001b[0m \u001b[38;5;28;01mreturn\u001b[39;00m expression\n",
      "File \u001b[0;32m/usr/lib/petsc/lib/python3/dist-packages/dolfin/jit/jit.py:168\u001b[0m, in \u001b[0;36mcompile_class\u001b[0;34m(cpp_data, mpi_comm)\u001b[0m\n\u001b[1;32m    165\u001b[0m module_name \u001b[38;5;241m=\u001b[39m \u001b[38;5;124m\"\u001b[39m\u001b[38;5;124mdolfin_\u001b[39m\u001b[38;5;124m\"\u001b[39m \u001b[38;5;241m+\u001b[39m name \u001b[38;5;241m+\u001b[39m \u001b[38;5;124m\"\u001b[39m\u001b[38;5;124m_\u001b[39m\u001b[38;5;124m\"\u001b[39m \u001b[38;5;241m+\u001b[39m module_hash\n\u001b[1;32m    167\u001b[0m \u001b[38;5;28;01mtry\u001b[39;00m:\n\u001b[0;32m--> 168\u001b[0m     module, signature \u001b[38;5;241m=\u001b[39m \u001b[43mdijitso_jit\u001b[49m\u001b[43m(\u001b[49m\u001b[43mcpp_data\u001b[49m\u001b[43m,\u001b[49m\u001b[43m \u001b[49m\u001b[43mmodule_name\u001b[49m\u001b[43m,\u001b[49m\u001b[43m \u001b[49m\u001b[43mparams\u001b[49m\u001b[43m,\u001b[49m\n\u001b[1;32m    169\u001b[0m \u001b[43m                                    \u001b[49m\u001b[43mgenerate\u001b[49m\u001b[38;5;241;43m=\u001b[39;49m\u001b[43mcpp_data\u001b[49m\u001b[43m[\u001b[49m\u001b[38;5;124;43m'\u001b[39;49m\u001b[38;5;124;43mjit_generate\u001b[39;49m\u001b[38;5;124;43m'\u001b[39;49m\u001b[43m]\u001b[49m\u001b[43m,\u001b[49m\n\u001b[1;32m    170\u001b[0m \u001b[43m                                    \u001b[49m\u001b[43mmpi_comm\u001b[49m\u001b[38;5;241;43m=\u001b[39;49m\u001b[43mmpi_comm\u001b[49m\u001b[43m)\u001b[49m\n\u001b[1;32m    171\u001b[0m     submodule \u001b[38;5;241m=\u001b[39m dijitso\u001b[38;5;241m.\u001b[39mextract_factory_function(module, \u001b[38;5;124m\"\u001b[39m\u001b[38;5;124mcreate_\u001b[39m\u001b[38;5;124m\"\u001b[39m \u001b[38;5;241m+\u001b[39m module_name)()\n\u001b[1;32m    172\u001b[0m \u001b[38;5;28;01mexcept\u001b[39;00m \u001b[38;5;167;01mException\u001b[39;00m:\n",
      "File \u001b[0;32m/usr/lib/petsc/lib/python3/dist-packages/dolfin/jit/jit.py:50\u001b[0m, in \u001b[0;36mmpi_jit_decorator.<locals>.mpi_jit\u001b[0;34m(*args, **kwargs)\u001b[0m\n\u001b[1;32m     48\u001b[0m \u001b[38;5;66;03m# Just call JIT compiler when running in serial\u001b[39;00m\n\u001b[1;32m     49\u001b[0m \u001b[38;5;28;01mif\u001b[39;00m MPI\u001b[38;5;241m.\u001b[39msize(mpi_comm) \u001b[38;5;241m==\u001b[39m \u001b[38;5;241m1\u001b[39m:\n\u001b[0;32m---> 50\u001b[0m     \u001b[38;5;28;01mreturn\u001b[39;00m \u001b[43mlocal_jit\u001b[49m\u001b[43m(\u001b[49m\u001b[38;5;241;43m*\u001b[39;49m\u001b[43margs\u001b[49m\u001b[43m,\u001b[49m\u001b[43m \u001b[49m\u001b[38;5;241;43m*\u001b[39;49m\u001b[38;5;241;43m*\u001b[39;49m\u001b[43mkwargs\u001b[49m\u001b[43m)\u001b[49m\n\u001b[1;32m     52\u001b[0m \u001b[38;5;66;03m# Default status (0 == ok, 1 == fail)\u001b[39;00m\n\u001b[1;32m     53\u001b[0m status \u001b[38;5;241m=\u001b[39m \u001b[38;5;241m0\u001b[39m\n",
      "File \u001b[0;32m/usr/lib/petsc/lib/python3/dist-packages/dolfin/jit/jit.py:106\u001b[0m, in \u001b[0;36mdijitso_jit\u001b[0;34m(*args, **kwargs)\u001b[0m\n\u001b[1;32m    104\u001b[0m \u001b[38;5;129m@mpi_jit_decorator\u001b[39m\n\u001b[1;32m    105\u001b[0m \u001b[38;5;28;01mdef\u001b[39;00m \u001b[38;5;21mdijitso_jit\u001b[39m(\u001b[38;5;241m*\u001b[39margs, \u001b[38;5;241m*\u001b[39m\u001b[38;5;241m*\u001b[39mkwargs):\n\u001b[0;32m--> 106\u001b[0m     \u001b[38;5;28;01mreturn\u001b[39;00m \u001b[43mdijitso\u001b[49m\u001b[38;5;241;43m.\u001b[39;49m\u001b[43mjit\u001b[49m\u001b[43m(\u001b[49m\u001b[38;5;241;43m*\u001b[39;49m\u001b[43margs\u001b[49m\u001b[43m,\u001b[49m\u001b[43m \u001b[49m\u001b[38;5;241;43m*\u001b[39;49m\u001b[38;5;241;43m*\u001b[39;49m\u001b[43mkwargs\u001b[49m\u001b[43m)\u001b[49m\n",
      "File \u001b[0;32m/usr/lib/python3/dist-packages/dijitso/jit.py:177\u001b[0m, in \u001b[0;36mjit\u001b[0;34m(jitable, name, params, generate, send, receive, wait)\u001b[0m\n\u001b[1;32m    169\u001b[0m dependencies \u001b[38;5;241m=\u001b[39m [as_unicode(dep) \u001b[38;5;28;01mfor\u001b[39;00m dep \u001b[38;5;129;01min\u001b[39;00m dependencies]\n\u001b[1;32m    171\u001b[0m \u001b[38;5;66;03m# 2) Compile shared library and 3) store in dijitso\u001b[39;00m\n\u001b[1;32m    172\u001b[0m \u001b[38;5;66;03m# inc/src/lib dir on success\u001b[39;00m\n\u001b[1;32m    173\u001b[0m \u001b[38;5;66;03m# NB! It's important to not raise exception on compilation\u001b[39;00m\n\u001b[1;32m    174\u001b[0m \u001b[38;5;66;03m# failure, such that we can reach wait() together with\u001b[39;00m\n\u001b[1;32m    175\u001b[0m \u001b[38;5;66;03m# other processes if any.\u001b[39;00m\n\u001b[1;32m    176\u001b[0m status, output, lib_filename, err_info \u001b[38;5;241m=\u001b[39m \\\n\u001b[0;32m--> 177\u001b[0m     \u001b[43mbuild_shared_library\u001b[49m\u001b[43m(\u001b[49m\u001b[43msignature\u001b[49m\u001b[43m,\u001b[49m\u001b[43m \u001b[49m\u001b[43mheader\u001b[49m\u001b[43m,\u001b[49m\u001b[43m \u001b[49m\u001b[43msource\u001b[49m\u001b[43m,\u001b[49m\u001b[43m \u001b[49m\u001b[43mdependencies\u001b[49m\u001b[43m,\u001b[49m\n\u001b[1;32m    178\u001b[0m \u001b[43m                         \u001b[49m\u001b[43mparams\u001b[49m\u001b[43m)\u001b[49m\n\u001b[1;32m    180\u001b[0m \u001b[38;5;66;03m# 4a) Send library over network if we have a send function\u001b[39;00m\n\u001b[1;32m    181\u001b[0m \u001b[38;5;28;01mif\u001b[39;00m send:\n",
      "File \u001b[0;32m/usr/lib/python3/dist-packages/dijitso/build.py:153\u001b[0m, in \u001b[0;36mbuild_shared_library\u001b[0;34m(signature, header, source, dependencies, params)\u001b[0m\n\u001b[1;32m    148\u001b[0m cmd \u001b[38;5;241m=\u001b[39m make_compile_command(temp_src_filename, temp_lib_filename,\n\u001b[1;32m    149\u001b[0m                            dependencies, build_params, cache_params)\n\u001b[1;32m    151\u001b[0m \u001b[38;5;66;03m# Execute command to compile generated source code to dynamic\u001b[39;00m\n\u001b[1;32m    152\u001b[0m \u001b[38;5;66;03m# library\u001b[39;00m\n\u001b[0;32m--> 153\u001b[0m status, output \u001b[38;5;241m=\u001b[39m \u001b[43mget_status_output\u001b[49m\u001b[43m(\u001b[49m\u001b[43mcmd\u001b[49m\u001b[43m)\u001b[49m\n\u001b[1;32m    155\u001b[0m \u001b[38;5;66;03m# Move files to cache on success or a local dir on failure,\u001b[39;00m\n\u001b[1;32m    156\u001b[0m \u001b[38;5;66;03m# using safe lockfree move\u001b[39;00m\n\u001b[1;32m    157\u001b[0m \u001b[38;5;28;01mif\u001b[39;00m status \u001b[38;5;241m==\u001b[39m \u001b[38;5;241m0\u001b[39m:\n\u001b[1;32m    158\u001b[0m     \u001b[38;5;66;03m# Ensure dirnames exist in cache dirs\u001b[39;00m\n",
      "File \u001b[0;32m/usr/lib/python3/dist-packages/dijitso/system.py:42\u001b[0m, in \u001b[0;36m_get_status_output_subprocess\u001b[0;34m(cmd, input, cwd, env)\u001b[0m\n\u001b[1;32m     39\u001b[0m     cmd \u001b[38;5;241m=\u001b[39m cmd\u001b[38;5;241m.\u001b[39mstrip()\u001b[38;5;241m.\u001b[39msplit()\n\u001b[1;32m     40\u001b[0m pipe \u001b[38;5;241m=\u001b[39m subprocess\u001b[38;5;241m.\u001b[39mPopen(cmd, shell\u001b[38;5;241m=\u001b[39m\u001b[38;5;28;01mFalse\u001b[39;00m, cwd\u001b[38;5;241m=\u001b[39mcwd, env\u001b[38;5;241m=\u001b[39menv,\n\u001b[1;32m     41\u001b[0m                         stdout\u001b[38;5;241m=\u001b[39msubprocess\u001b[38;5;241m.\u001b[39mPIPE, stderr\u001b[38;5;241m=\u001b[39msubprocess\u001b[38;5;241m.\u001b[39mSTDOUT)\n\u001b[0;32m---> 42\u001b[0m (output, errout) \u001b[38;5;241m=\u001b[39m \u001b[43mpipe\u001b[49m\u001b[38;5;241;43m.\u001b[39;49m\u001b[43mcommunicate\u001b[49m\u001b[43m(\u001b[49m\u001b[38;5;28;43minput\u001b[39;49m\u001b[38;5;241;43m=\u001b[39;49m\u001b[38;5;28;43minput\u001b[39;49m\u001b[43m)\u001b[49m\n\u001b[1;32m     43\u001b[0m \u001b[38;5;28;01massert\u001b[39;00m \u001b[38;5;129;01mnot\u001b[39;00m errout\n\u001b[1;32m     44\u001b[0m status \u001b[38;5;241m=\u001b[39m pipe\u001b[38;5;241m.\u001b[39mreturncode\n",
      "File \u001b[0;32m/usr/lib/python3.10/subprocess.py:1139\u001b[0m, in \u001b[0;36mPopen.communicate\u001b[0;34m(self, input, timeout)\u001b[0m\n\u001b[1;32m   1137\u001b[0m     \u001b[38;5;28mself\u001b[39m\u001b[38;5;241m.\u001b[39m_stdin_write(\u001b[38;5;28minput\u001b[39m)\n\u001b[1;32m   1138\u001b[0m \u001b[38;5;28;01melif\u001b[39;00m \u001b[38;5;28mself\u001b[39m\u001b[38;5;241m.\u001b[39mstdout:\n\u001b[0;32m-> 1139\u001b[0m     stdout \u001b[38;5;241m=\u001b[39m \u001b[38;5;28;43mself\u001b[39;49m\u001b[38;5;241;43m.\u001b[39;49m\u001b[43mstdout\u001b[49m\u001b[38;5;241;43m.\u001b[39;49m\u001b[43mread\u001b[49m\u001b[43m(\u001b[49m\u001b[43m)\u001b[49m\n\u001b[1;32m   1140\u001b[0m     \u001b[38;5;28mself\u001b[39m\u001b[38;5;241m.\u001b[39mstdout\u001b[38;5;241m.\u001b[39mclose()\n\u001b[1;32m   1141\u001b[0m \u001b[38;5;28;01melif\u001b[39;00m \u001b[38;5;28mself\u001b[39m\u001b[38;5;241m.\u001b[39mstderr:\n",
      "\u001b[0;31mKeyboardInterrupt\u001b[0m: "
     ]
    }
   ],
   "source": [
    "from __future__ import print_function\n",
    "from dolfin import *\n",
    "from b import *\n",
    "import numpy as np\n",
    "\n",
    "set_log_level(LogLevel.WARNING)\n",
    "# Defining mesh and FEM spaces\n",
    "n=20\n",
    "mesh = RectangleMesh(Point(0,0),Point(1,1),n,n,diagonal=\"left\")\n",
    "V = FunctionSpace(mesh, \"CG\", 1)\n",
    "tol = 1e-14\n",
    "# Defining bounday conditions\n",
    "u_R = Expression('0.0', degree=2)\n",
    "def boundary(x):\n",
    "    return x[0] < DOLFIN_EPS or x[0] > 1.0 - DOLFIN_EPS or x[1] < DOLFIN_EPS or x[1] > 1.0 - DOLFIN_EPS\n",
    "uD = Constant(0.0)\n",
    "bc = DirichletBC(V, uD, boundary)\n",
    "# Resolving the variational formulation    \n",
    "dt = 0.0025\n",
    "u0 = interpolate(Expression(\"0.0\", degree=4), V)\n",
    "u_prev = u0.copy(deepcopy=True) \n",
    "u_next = u0.copy(deepcopy=True)\n",
    "T = 0.1\n",
    "t = 0.0\n",
    "v = TestFunction(V)\n",
    "states = [u0.copy(deepcopy=True)]\n",
    "times = [float(t)]\n",
    "timestep = 0\n",
    "while abs(T-t)>=tol :\n",
    "    # print(\"Solving for t == %s\" % (t + dt))\n",
    "    F = inner((u_next - u_prev) / Constant(dt), v) * dx + inner(grad(u_next), grad(v)) * dx\n",
    "    solve(F == 0, u_next, bc, annotate=True) # This is how dolfin-adjoint records the dependency of the control in each timestep\n",
    "    u_prev.assign(u_next, annotate=True)\n",
    "    t += dt\n",
    "    timestep += 1\n",
    "    states.append(u_next.copy(deepcopy=True, annotate=True))\n",
    "    times.append(float(t))\n",
    "m = Control(u0)\n",
    "steps=len(times)\n",
    "# Defining reference solution\n",
    "for j in np.arange(0,steps):\n",
    "    w=interpolate(Expression(\"exp(-8*pi*pi*t)*sin(2*pi*x[0])*sin(2*pi*x[1])\",t=times[j],degree=1), V)\n",
    "    if j==0:\n",
    "        reference = [w.copy(deepcopy=True)]\n",
    "    else:\n",
    "        reference.append(w.copy(deepcopy=True, annotate=False))\n",
    "combined = zip(times,states,reference)\n",
    "alpha = Constant(0)\n",
    "# and the minimizing problem\n",
    "J = assemble(1/dt*sum(inner(true-computed,true-computed)*dx for (time,true,computed) in combined if time >= dt) + alpha*inner(u0,u0)*dx)\n",
    "RJ = ReducedFunctional(J,m)\n",
    "\n",
    "u0_opt = minimize(RJ,tol=1.0e-10, options={\"ftol\": 1e-7})"
   ]
  },
  {
   "cell_type": "code",
   "execution_count": 2,
   "metadata": {},
   "outputs": [
    {
     "name": "stdout",
     "output_type": "stream",
     "text": [
      "Help on function minimize in module pyadjoint.optimization.optimization:\n",
      "\n",
      "minimize(rf, method='L-BFGS-B', scale=1.0, **kwargs)\n",
      "    Solves the minimisation problem with PDE constraint:\n",
      "    \n",
      "       min_m func(u, m)\n",
      "         s.t.\n",
      "       e(u, m) = 0\n",
      "       lb <= m <= ub\n",
      "       g(m) <= u\n",
      "    \n",
      "    where m is the control variable, u is the solution of the PDE system e(u, m) = 0, func is the functional\n",
      "    of interest and lb, ub and g(m) constraints the control variables.\n",
      "    The optimization problem is solved using a gradient based optimization algorithm and the functional gradients\n",
      "    are computed by solving the associated adjoint system.\n",
      "    \n",
      "    The function arguments are as follows:\n",
      "    * 'rf' must be a ReducedFunctional object.\n",
      "    * 'method' specifies the optimization method to be used to solve the problem. The available methods can be\n",
      "        listed with the print_optimization_methods function.\n",
      "    * 'scale' is a factor to scale to problem (default: 1.0).\n",
      "    * 'bounds' is an optional keyword parameter to support control constraints: bounds = (lb, ub).\n",
      "        lb and ub must be of the same type than the parameters m.\n",
      "    \n",
      "    Additional arguments specific for the optimization algorithms can be added to the minimize functions\n",
      "    (e.g. iprint = 2). These arguments will be passed to the underlying optimization algorithm.\n",
      "    For detailed information about which arguments are supported for each optimization algorithm,\n",
      "    please refer to the documentaton of the optimization algorithm.\n",
      "\n"
     ]
    }
   ],
   "source": [
    "help(minimize)"
   ]
  },
  {
   "cell_type": "code",
   "execution_count": 2,
   "metadata": {},
   "outputs": [
    {
     "name": "stdout",
     "output_type": "stream",
     "text": [
      "Solving for t == 0.0025\n",
      "Solving for t == 0.005\n",
      "Solving for t == 0.0075\n",
      "Solving for t == 0.01\n",
      "Solving for t == 0.0125\n",
      "Solving for t == 0.015000000000000001\n",
      "Solving for t == 0.0175\n",
      "Solving for t == 0.02\n",
      "Solving for t == 0.0225\n",
      "Solving for t == 0.024999999999999998\n",
      "Solving for t == 0.027499999999999997\n",
      "Solving for t == 0.029999999999999995\n",
      "Solving for t == 0.032499999999999994\n",
      "Solving for t == 0.034999999999999996\n",
      "Solving for t == 0.0375\n",
      "Solving for t == 0.04\n",
      "Solving for t == 0.0425\n",
      "Solving for t == 0.045000000000000005\n",
      "Solving for t == 0.04750000000000001\n",
      "Solving for t == 0.05000000000000001\n",
      "Solving for t == 0.05250000000000001\n",
      "Solving for t == 0.055000000000000014\n",
      "Solving for t == 0.057500000000000016\n",
      "Solving for t == 0.06000000000000002\n",
      "Solving for t == 0.06250000000000001\n",
      "Solving for t == 0.06500000000000002\n",
      "Solving for t == 0.06750000000000002\n",
      "Solving for t == 0.07000000000000002\n",
      "Solving for t == 0.07250000000000002\n",
      "Solving for t == 0.07500000000000002\n",
      "Solving for t == 0.07750000000000003\n",
      "Solving for t == 0.08000000000000003\n",
      "Solving for t == 0.08250000000000003\n",
      "Solving for t == 0.08500000000000003\n",
      "Solving for t == 0.08750000000000004\n",
      "Solving for t == 0.09000000000000004\n",
      "Solving for t == 0.09250000000000004\n",
      "Solving for t == 0.09500000000000004\n",
      "Solving for t == 0.09750000000000004\n",
      "Solving for t == 0.10000000000000005\n"
     ]
    }
   ],
   "source": [
    "u0_opt.rename('u','u')\n",
    "u_p = u0_opt.copy(deepcopy=True)\n",
    "u_n = u0_opt.copy(deepcopy=True)\n",
    "# Finally, we obtain the optimal state in each timestep\n",
    "T = 0.1\n",
    "t = 0.0\n",
    "v = TestFunction(V)\n",
    "sol = [u0_opt.copy(deepcopy=True)]\n",
    "file = File('TimeTest/sol.pvd')\n",
    "file << (u0_opt,0)\n",
    "while abs(T-t)>=tol :\n",
    "    print(\"Solving for t == %s\" % (t + dt))\n",
    "    F = inner((u_n - u_p) / Constant(dt), v) * dx + inner(grad(u_n), grad(v)) * dx\n",
    "    solve(F == 0, u_n, bc)\n",
    "    u_p.assign(u_n)\n",
    "    t += dt\n",
    "    timestep += 1\n",
    "    sol.append(u_next.copy(deepcopy=True))\n",
    "    u_n.rename('u','u')\n",
    "    file << (u_n,t)"
   ]
  },
  {
   "cell_type": "code",
   "execution_count": 1,
   "metadata": {},
   "outputs": [
    {
     "data": {
      "text/plain": [
       "0"
      ]
     },
     "execution_count": 1,
     "metadata": {},
     "output_type": "execute_result"
    }
   ],
   "source": [
    "import os\n",
    "os.system('python3 TimeTest.py')"
   ]
  },
  {
   "cell_type": "code",
   "execution_count": null,
   "metadata": {},
   "outputs": [],
   "source": []
  }
 ],
 "metadata": {
  "kernelspec": {
   "display_name": "Python 3 (ipykernel)",
   "language": "python",
   "name": "python3"
  },
  "language_info": {
   "codemirror_mode": {
    "name": "ipython",
    "version": 3
   },
   "file_extension": ".py",
   "mimetype": "text/x-python",
   "name": "python",
   "nbconvert_exporter": "python",
   "pygments_lexer": "ipython3",
   "version": "3.10.6"
  }
 },
 "nbformat": 4,
 "nbformat_minor": 4
}
