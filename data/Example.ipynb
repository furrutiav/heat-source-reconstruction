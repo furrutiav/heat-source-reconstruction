{
 "cells": [
  {
   "cell_type": "markdown",
   "id": "80bfe23e",
   "metadata": {},
   "source": [
    "Problema\n",
    "\\begin{align}\n",
    "\\partial_t u(t, x) - \\gamma \\Delta u(t, x) = f(x) \\sigma(t), \\quad \\Omega \\times (0, T),\\\\\n",
    "u = 0, \\quad \\partial \\Omega \\times (0, T),\\\\\n",
    "u(x, 0) = 0, \\quad \\Omega,\\\\\n",
    "\\end{align}"
   ]
  },
  {
   "cell_type": "code",
   "execution_count": 276,
   "id": "1af83677",
   "metadata": {},
   "outputs": [],
   "source": [
    "T = 0.5"
   ]
  },
  {
   "cell_type": "code",
   "execution_count": 277,
   "id": "13e6a6bf",
   "metadata": {},
   "outputs": [],
   "source": [
    "from dolfin import *\n",
    "from dolfin_adjoint import *\n",
    "import numpy as np\n",
    "set_log_level(LogLevel.WARNING)"
   ]
  },
  {
   "cell_type": "code",
   "execution_count": 278,
   "id": "6afc0b3c",
   "metadata": {},
   "outputs": [],
   "source": [
    "mesh = UnitSquareMesh(32, 32)\n",
    "V = FunctionSpace(mesh, \"Lagrange\", 1)\n",
    "tol = 1e-14\n",
    "# Defining bounday conditions\n",
    "\n",
    "def boundary(x):\n",
    "    return x[0] < DOLFIN_EPS or x[0] > 1.0 - DOLFIN_EPS or x[1] < DOLFIN_EPS or x[1] > 1.0 - DOLFIN_EPS\n",
    "\n",
    "uD = Constant(0.0)\n",
    "bc = DirichletBC(V, uD, boundary)"
   ]
  },
  {
   "cell_type": "code",
   "execution_count": 279,
   "id": "79af8a88",
   "metadata": {},
   "outputs": [
    {
     "name": "stdout",
     "output_type": "stream",
     "text": [
      "Defaulting to user installation because normal site-packages is not writeable\n",
      "Requirement already satisfied: opencv-python in /home/furrutia/.local/lib/python3.10/site-packages (4.6.0.66)\n",
      "Requirement already satisfied: numpy>=1.19.3 in /usr/lib/python3/dist-packages (from opencv-python) (1.21.5)\n"
     ]
    }
   ],
   "source": [
    "!pip install opencv-python"
   ]
  },
  {
   "cell_type": "code",
   "execution_count": 280,
   "id": "90f3c07d",
   "metadata": {},
   "outputs": [
    {
     "name": "stdout",
     "output_type": "stream",
     "text": [
      "<class 'numpy.ndarray'>\n"
     ]
    }
   ],
   "source": [
    "import cv2\n",
    "im = cv2.imread(\"fuente_x_3.png\")\n",
    "print(type(im))"
   ]
  },
  {
   "cell_type": "code",
   "execution_count": 281,
   "id": "bb3606c3",
   "metadata": {},
   "outputs": [
    {
     "data": {
      "text/plain": [
       "(98, 98)"
      ]
     },
     "execution_count": 281,
     "metadata": {},
     "output_type": "execute_result"
    }
   ],
   "source": [
    "raw_f = im[:, :, 1] + im[:, :, 0] + im[:, :, 2] \n",
    "raw_f = 150*(1-raw_f/253)\n",
    "raw_f.shape"
   ]
  },
  {
   "cell_type": "code",
   "execution_count": 282,
   "id": "e87e4923",
   "metadata": {},
   "outputs": [],
   "source": [
    "import matplotlib.pyplot as plt"
   ]
  },
  {
   "cell_type": "code",
   "execution_count": 283,
   "id": "a1e5ae94",
   "metadata": {},
   "outputs": [
    {
     "data": {
      "text/plain": [
       "<matplotlib.image.AxesImage at 0x7f79eb8ee710>"
      ]
     },
     "execution_count": 283,
     "metadata": {},
     "output_type": "execute_result"
    },
    {
     "data": {
      "image/png": "[encoded data removed]",
      "text/plain": [
       "<Figure size 640x480 with 1 Axes>"
      ]
     },
     "metadata": {},
     "output_type": "display_data"
    }
   ],
   "source": [
    "plt.imshow(raw_f)"
   ]
  },
  {
   "cell_type": "code",
   "execution_count": 284,
   "id": "7c588150",
   "metadata": {},
   "outputs": [
    {
     "name": "stdout",
     "output_type": "stream",
     "text": [
      "CPU times: user 31.2 ms, sys: 15.6 ms, total: 46.9 ms\n",
      "Wall time: 57 ms\n"
     ]
    }
   ],
   "source": [
    "%%time\n",
    "dim = V.dim()\n",
    "N = mesh.geometry().dim()\n",
    "coor = V.tabulate_dof_coordinates().reshape(dim,N)\n",
    "\n",
    "x = coor[:, 0]\n",
    "y = coor[:, 1]\n",
    "\n",
    "f_dofs = V.dofmap().dofs()\n",
    "\n",
    "f_x, f_y = x[f_dofs], y[f_dofs]\n",
    "\n",
    "f = Function(V)\n",
    "for dot in f_dofs:\n",
    "    i, j = int((raw_f.shape[0]-1)*x[dot]), int((raw_f.shape[1]-1)*y[dot])\n",
    "    f.vector()[dot] = raw_f[i, j]"
   ]
  },
  {
   "cell_type": "code",
   "execution_count": 285,
   "id": "acb9d1f3",
   "metadata": {},
   "outputs": [
    {
     "data": {
      "image/png": "[encoded data removed]",
      "text/plain": [
       "<Figure size 640x480 with 1 Axes>"
      ]
     },
     "metadata": {},
     "output_type": "display_data"
    }
   ],
   "source": [
    "img = []\n",
    "for i in range(100):\n",
    "    row = []\n",
    "    for j in range(100):\n",
    "        row.append(f([i/99,j/99]))\n",
    "    img.append(row)\n",
    "plt.imshow(img);"
   ]
  },
  {
   "cell_type": "code",
   "execution_count": 286,
   "id": "41fce813",
   "metadata": {},
   "outputs": [],
   "source": [
    "# Resolving the variational formulation    \n",
    "dt = 0.01\n",
    "\n",
    "sigma = lambda t: 1-(1/4)*np.cos(4*np.pi*t/T)\n",
    "u0 = interpolate(Expression(\"0.0\", degree=4), V)\n",
    "\n",
    "u_prev = u0.copy(deepcopy=True) \n",
    "u_next = u0.copy(deepcopy=True) \n",
    "\n",
    "t = 0.0\n",
    "v = TestFunction(V)\n",
    "\n",
    "states = [u0.copy(deepcopy=True)]\n",
    "\n",
    "controls = [f * sigma(0)]\n",
    "\n",
    "\n",
    "times = [float(t)]\n",
    "timestep = 0"
   ]
  },
  {
   "cell_type": "code",
   "execution_count": 287,
   "id": "1967833f",
   "metadata": {},
   "outputs": [
    {
     "name": "stdout",
     "output_type": "stream",
     "text": [
      "Solving for t == 0.01\n",
      "Done!\n",
      "Solving for t == 0.02\n",
      "Done!\n",
      "Solving for t == 0.03\n",
      "Done!\n",
      "Solving for t == 0.04\n",
      "Done!\n",
      "Solving for t == 0.05\n",
      "Done!\n",
      "Solving for t == 0.060000000000000005\n",
      "Done!\n",
      "Solving for t == 0.07\n",
      "Calling FFC just-in-time (JIT) compiler, this may take some time.\n",
      "Calling FFC just-in-time (JIT) compiler, this may take some time.\n",
      "Done!\n",
      "Solving for t == 0.08\n",
      "Done!\n",
      "Solving for t == 0.09\n",
      "Done!\n",
      "Solving for t == 0.09999999999999999\n",
      "Done!\n",
      "Solving for t == 0.10999999999999999\n",
      "Done!\n",
      "Solving for t == 0.11999999999999998\n",
      "Done!\n",
      "Solving for t == 0.12999999999999998\n",
      "Done!\n",
      "Solving for t == 0.13999999999999999\n",
      "Done!\n",
      "Solving for t == 0.15\n",
      "Done!\n",
      "Solving for t == 0.16\n",
      "Done!\n",
      "Solving for t == 0.17\n",
      "Calling FFC just-in-time (JIT) compiler, this may take some time.\n",
      "Calling FFC just-in-time (JIT) compiler, this may take some time.\n",
      "Done!\n",
      "Solving for t == 0.18000000000000002\n",
      "Calling FFC just-in-time (JIT) compiler, this may take some time.\n",
      "Calling FFC just-in-time (JIT) compiler, this may take some time.\n",
      "Done!\n",
      "Solving for t == 0.19000000000000003\n",
      "Done!\n",
      "Solving for t == 0.20000000000000004\n",
      "Done!\n",
      "Solving for t == 0.21000000000000005\n",
      "Calling FFC just-in-time (JIT) compiler, this may take some time.\n",
      "Calling FFC just-in-time (JIT) compiler, this may take some time.\n",
      "Done!\n",
      "Solving for t == 0.22000000000000006\n",
      "Calling FFC just-in-time (JIT) compiler, this may take some time.\n",
      "Calling FFC just-in-time (JIT) compiler, this may take some time.\n",
      "Done!\n",
      "Solving for t == 0.23000000000000007\n",
      "Calling FFC just-in-time (JIT) compiler, this may take some time.\n",
      "Calling FFC just-in-time (JIT) compiler, this may take some time.\n",
      "Done!\n",
      "Solving for t == 0.24000000000000007\n",
      "Calling FFC just-in-time (JIT) compiler, this may take some time.\n",
      "Calling FFC just-in-time (JIT) compiler, this may take some time.\n",
      "Done!\n",
      "Solving for t == 0.25000000000000006\n",
      "Calling FFC just-in-time (JIT) compiler, this may take some time.\n",
      "Calling FFC just-in-time (JIT) compiler, this may take some time.\n",
      "Done!\n",
      "Solving for t == 0.26000000000000006\n",
      "Done!\n",
      "Solving for t == 0.2700000000000001\n",
      "Done!\n",
      "Solving for t == 0.2800000000000001\n",
      "Calling FFC just-in-time (JIT) compiler, this may take some time.\n",
      "Calling FFC just-in-time (JIT) compiler, this may take some time.\n",
      "Done!\n",
      "Solving for t == 0.2900000000000001\n",
      "Calling FFC just-in-time (JIT) compiler, this may take some time.\n",
      "Calling FFC just-in-time (JIT) compiler, this may take some time.\n",
      "Done!\n",
      "Solving for t == 0.3000000000000001\n",
      "Calling FFC just-in-time (JIT) compiler, this may take some time.\n",
      "Calling FFC just-in-time (JIT) compiler, this may take some time.\n",
      "Done!\n",
      "Solving for t == 0.3100000000000001\n",
      "Calling FFC just-in-time (JIT) compiler, this may take some time.\n",
      "Calling FFC just-in-time (JIT) compiler, this may take some time.\n",
      "Done!\n",
      "Solving for t == 0.3200000000000001\n",
      "Calling FFC just-in-time (JIT) compiler, this may take some time.\n",
      "Calling FFC just-in-time (JIT) compiler, this may take some time.\n",
      "Done!\n",
      "Solving for t == 0.3300000000000001\n",
      "Calling FFC just-in-time (JIT) compiler, this may take some time.\n",
      "Calling FFC just-in-time (JIT) compiler, this may take some time.\n",
      "Done!\n",
      "Solving for t == 0.34000000000000014\n",
      "Calling FFC just-in-time (JIT) compiler, this may take some time.\n",
      "Calling FFC just-in-time (JIT) compiler, this may take some time.\n",
      "Done!\n",
      "Solving for t == 0.35000000000000014\n",
      "Calling FFC just-in-time (JIT) compiler, this may take some time.\n",
      "Calling FFC just-in-time (JIT) compiler, this may take some time.\n",
      "Done!\n",
      "Solving for t == 0.36000000000000015\n",
      "Calling FFC just-in-time (JIT) compiler, this may take some time.\n",
      "Calling FFC just-in-time (JIT) compiler, this may take some time.\n",
      "Done!\n",
      "Solving for t == 0.37000000000000016\n",
      "Calling FFC just-in-time (JIT) compiler, this may take some time.\n",
      "Calling FFC just-in-time (JIT) compiler, this may take some time.\n",
      "Done!\n",
      "Solving for t == 0.38000000000000017\n",
      "Done!\n",
      "Solving for t == 0.3900000000000002\n",
      "Done!\n",
      "Solving for t == 0.4000000000000002\n",
      "Calling FFC just-in-time (JIT) compiler, this may take some time.\n",
      "Calling FFC just-in-time (JIT) compiler, this may take some time.\n",
      "Done!\n",
      "Solving for t == 0.4100000000000002\n",
      "Done!\n",
      "Solving for t == 0.4200000000000002\n",
      "Done!\n",
      "Solving for t == 0.4300000000000002\n",
      "Done!\n",
      "Solving for t == 0.4400000000000002\n",
      "Calling FFC just-in-time (JIT) compiler, this may take some time.\n",
      "Calling FFC just-in-time (JIT) compiler, this may take some time.\n",
      "Done!\n",
      "Solving for t == 0.45000000000000023\n",
      "Calling FFC just-in-time (JIT) compiler, this may take some time.\n",
      "Calling FFC just-in-time (JIT) compiler, this may take some time.\n",
      "Done!\n",
      "Solving for t == 0.46000000000000024\n",
      "Calling FFC just-in-time (JIT) compiler, this may take some time.\n",
      "Calling FFC just-in-time (JIT) compiler, this may take some time.\n",
      "Done!\n",
      "Solving for t == 0.47000000000000025\n",
      "Calling FFC just-in-time (JIT) compiler, this may take some time.\n",
      "Calling FFC just-in-time (JIT) compiler, this may take some time.\n",
      "Done!\n",
      "Solving for t == 0.48000000000000026\n",
      "Calling FFC just-in-time (JIT) compiler, this may take some time.\n",
      "Calling FFC just-in-time (JIT) compiler, this may take some time.\n",
      "Done!\n",
      "Solving for t == 0.49000000000000027\n",
      "Calling FFC just-in-time (JIT) compiler, this may take some time.\n",
      "Calling FFC just-in-time (JIT) compiler, this may take some time.\n",
      "Done!\n",
      "Solving for t == 0.5000000000000002\n",
      "Done!\n",
      "CPU times: user 3 s, sys: 2.11 s, total: 5.11 s\n",
      "Wall time: 46.8 s\n"
     ]
    }
   ],
   "source": [
    "%%time\n",
    "file = File('Ex3/sol.pvd')\n",
    "states[-1].rename('u','u')\n",
    "File(f'Ex3/sol_{timestep}.xml')  << states[-1]\n",
    "while abs(T-t)>=tol :\n",
    "    print(\"Solving for t == %s\" % (t + dt))\n",
    "    \n",
    "    F = inner((u_next - u_prev) / Constant(dt), v) * dx + inner(grad(u_next), grad(v)) * dx - (f * sigma(t)) * v * dx\n",
    "    solve(F == 0, u_next, bc, annotate=True) # This is how dolfin-adjoint records the dependency of the control in each timestep\n",
    "    \n",
    "    u_prev.assign(u_next, annotate=True)\n",
    "    \n",
    "    t += dt\n",
    "    timestep += 1\n",
    "    \n",
    "    states.append(u_next.copy(deepcopy=True, annotate=True))\n",
    "    controls.append((f*sigma(t)))\n",
    "    \n",
    "    times.append(float(t))\n",
    "    \n",
    "    states[-1].rename('u','u')\n",
    "    \n",
    "    file << (states[-1],t)\n",
    "    File(f'Ex3/sol_{timestep}.xml')  << states[-1]\n",
    "    \n",
    "    print(\"Done!\")"
   ]
  },
  {
   "cell_type": "code",
   "execution_count": 288,
   "id": "dd30349b",
   "metadata": {},
   "outputs": [
    {
     "name": "stdout",
     "output_type": "stream",
     "text": [
      "CPU times: user 5.66 s, sys: 0 ns, total: 5.66 s\n",
      "Wall time: 5.65 s\n"
     ]
    }
   ],
   "source": [
    "%%time\n",
    "vmax = -np.inf\n",
    "vmin = np.inf\n",
    "for t in range(len(states)):\n",
    "    img = []\n",
    "    for i in range(100):\n",
    "        row = []\n",
    "        for j in range(100):\n",
    "            row.append(states[-1]([i/99,j/99]))\n",
    "        img.append(row)\n",
    "    t_max = np.max(img)\n",
    "    t_min = np.min(img)\n",
    "    if vmax<t_max: vmax=t_max\n",
    "    if vmin>t_min: vmin=t_min"
   ]
  },
  {
   "cell_type": "code",
   "execution_count": 289,
   "id": "95b2fb41",
   "metadata": {},
   "outputs": [
    {
     "data": {
      "text/plain": [
       "(1.7441689858349567, -5.18482833299482e-18)"
      ]
     },
     "execution_count": 289,
     "metadata": {},
     "output_type": "execute_result"
    }
   ],
   "source": [
    "vmax, vmin"
   ]
  },
  {
   "cell_type": "code",
   "execution_count": 290,
   "id": "a6a3175c",
   "metadata": {},
   "outputs": [
    {
     "data": {
      "image/png": "[encoded data removed]",
      "text/plain": [
       "<Figure size 640x480 with 1 Axes>"
      ]
     },
     "metadata": {},
     "output_type": "display_data"
    }
   ],
   "source": [
    "t = -1\n",
    "img = []\n",
    "for i in range(100):\n",
    "    row = []\n",
    "    for j in range(100):\n",
    "        row.append(states[t]([i/99,j/99]))\n",
    "    img.append(row)\n",
    "plt.imshow(img, vmax=vmax, vmin=vmin, cmap=\"RdYlBu_r\")\n",
    "plt.title(t)\n",
    "t+=1"
   ]
  },
  {
   "cell_type": "code",
   "execution_count": 292,
   "id": "d143434a",
   "metadata": {},
   "outputs": [
    {
     "data": {
      "text/plain": [
       "Coefficient(FunctionSpace(Mesh(VectorElement(FiniteElement('Lagrange', triangle, 1), dim=2), 40882), FiniteElement('Lagrange', triangle, 1)), 42719)"
      ]
     },
     "execution_count": 292,
     "metadata": {},
     "output_type": "execute_result"
    }
   ],
   "source": [
    "u0 = Function(V, 'Ex3/sol_49.xml')\n",
    "u0"
   ]
  }
 ],
 "metadata": {
  "kernelspec": {
   "display_name": "Python 3 (ipykernel)",
   "language": "python",
   "name": "python3"
  },
  "language_info": {
   "codemirror_mode": {
    "name": "ipython",
    "version": 3
   },
   "file_extension": ".py",
   "mimetype": "text/x-python",
   "name": "python",
   "nbconvert_exporter": "python",
   "pygments_lexer": "ipython3",
   "version": "3.10.6"
  }
 },
 "nbformat": 4,
 "nbformat_minor": 5
}
