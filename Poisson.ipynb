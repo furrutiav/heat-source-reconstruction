{
 "cells": [
  {
   "cell_type": "markdown",
   "metadata": {},
   "source": [
    "In this notebook, we resolve the problem\n",
    "$$\n",
    "\\min_{u, f} \\ \\frac{1}{2}\\int_{\\Omega} |u-u_R|^2\\textrm{d}x+\\frac{\\alpha}{2}\\int_{\\Omega} |f|^2\\textrm{d}x\n",
    "$$\n",
    "for $\\alpha\\geq 0 $, subject to Poisson equation\n",
    "$$\n",
    "-\\Delta u = f  \\qquad \\mathrm{in } \\ \\Omega=[0,1]^2\n",
    "$$\n",
    "with Dirichlet boundary conditions\n",
    "$$\n",
    "\\begin{split}\n",
    "u&= 0  \\qquad \\mathrm{on} \\ \\partial \\Omega\\\\\\end{split}\n",
    "$$\n",
    "where $u_R(x,y)=\\dfrac{1}{2\\pi^2 (1+4\\alpha\\pi^4)}\\sin(\\pi x)\\sin(\\pi y)$ and $f\\in L^2 (\\Omega)$.\n",
    "\n",
    "We can prove that $f(x,y)=\\dfrac{1}{1+4\\alpha\\pi^4}\\sin(\\pi x)\\sin(\\pi y)$ is the optimal control."
   ]
  },
  {
   "cell_type": "code",
   "execution_count": 1,
   "metadata": {},
   "outputs": [
    {
     "name": "stdout",
     "output_type": "stream",
     "text": [
      "h(min):           3.535534e-02.\n",
      "Error in state:   1.844719e-05.\n",
      "Error in control: 7.083576e-02.\n"
     ]
    }
   ],
   "source": [
    "from __future__ import print_function\n",
    "from dolfin import *\n",
    "from dolfin_adjoint import *\n",
    "import numpy as np\n",
    "import scipy as sp\n",
    "import cmath\n",
    "import matplotlib.pyplot as plt\n",
    "from mshr import *\n",
    "import os\n",
    "# Creating the mesh\n",
    "n = 40\n",
    "mesh = RectangleMesh(Point(0,0),Point(1,1),n,n,diagonal=\"left/right\")\n",
    "# Defining FEM spaces\n",
    "V = FunctionSpace(mesh, \"CG\", 1)\n",
    "W = V\n",
    "# Defining state and control\n",
    "f = Function(W, name='Control')\n",
    "u = Function(V, name='State')\n",
    "# Defining variational problem\n",
    "v = TestFunction(V)\n",
    "F = (inner(grad(u), grad(v)) - f*v)*dx\n",
    "bc = DirichletBC(V, 0.0, \"on_boundary\")\n",
    "solve(F == 0, u, bc)\n",
    "# Creating reference solution\n",
    "x = SpatialCoordinate(mesh)\n",
    "w = Expression(\"sin(pi*x[0])*sin(pi*x[1])\", degree=3) \n",
    "d = 1/(2*pi**2)\n",
    "u_R = Expression(\"d*w\", d=d, w=w, degree=3)\n",
    "# Defining the functional\n",
    "alpha = Constant(1e-6)\n",
    "J = assemble((1/2*inner(u-u_R, u-u_R))*dx + alpha/2*f**2*dx)\n",
    "control = Control(f)\n",
    "rf = ReducedFunctional(J, control)\n",
    "# and the optimization problem\n",
    "f_opt = minimize(rf,tol=1.0e-10,options={\"gtol\": 1.0e-10})\n",
    "# Defining the expressions of the analytical solution\n",
    "f_analytic = Expression(\"1/(1+alpha*4*pow(pi, 4))*w\", w=w, alpha=alpha, degree=6)\n",
    "u_analytic = Expression(\"1/(2*pow(pi, 2))*f\", f=f_analytic, degree=6)\n",
    "# Computing the optimal states\n",
    "f.assign(f_opt)\n",
    "solve(F == 0, u, bc)\n",
    "# and L2 errors\n",
    "control_error = errornorm(f_analytic, f_opt)\n",
    "state_error = errornorm(u_analytic, u)\n",
    "print(\"h(min):           %e.\" % mesh.hmin())\n",
    "print(\"Error in state:   %e.\" % state_error)\n",
    "print(\"Error in control: %e.\" % control_error)\n",
    "file = XDMFFile(\"f_opt.xdmf\")\n",
    "file.write_checkpoint(f_opt,'f_opt',0, XDMFFile.Encoding.HDF5, False)\n",
    "file.close()\n",
    "file = XDMFFile(\"u_opt.xdmf\")\n",
    "file.write_checkpoint(u,'u_opt',0, XDMFFile.Encoding.HDF5, False)\n",
    "file.close()"
   ]
  },
  {
   "cell_type": "code",
   "execution_count": 2,
   "metadata": {},
   "outputs": [
    {
     "data": {
      "text/plain": [
       "0"
      ]
     },
     "execution_count": 2,
     "metadata": {},
     "output_type": "execute_result"
    }
   ],
   "source": [
    "import os\n",
    "os.system('python3 Poisson.py')"
   ]
  },
  {
   "cell_type": "code",
   "execution_count": null,
   "metadata": {},
   "outputs": [],
   "source": []
  }
 ],
 "metadata": {
  "kernelspec": {
   "display_name": "Python 3 (ipykernel)",
   "language": "python",
   "name": "python3"
  },
  "language_info": {
   "codemirror_mode": {
    "name": "ipython",
    "version": 3
   },
   "file_extension": ".py",
   "mimetype": "text/x-python",
   "name": "python",
   "nbconvert_exporter": "python",
   "pygments_lexer": "ipython3",
   "version": "3.10.6"
  }
 },
 "nbformat": 4,
 "nbformat_minor": 4
}
